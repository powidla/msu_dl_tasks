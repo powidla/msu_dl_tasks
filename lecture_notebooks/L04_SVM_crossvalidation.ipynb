{
  "nbformat": 4,
  "nbformat_minor": 0,
  "metadata": {
    "colab": {
      "provenance": [],
      "collapsed_sections": [
        "4Sxaj-GwU9B3",
        "n2U8KIslWpp2",
        "h5qRoL5uCgZO"
      ],
      "toc_visible": true
    },
    "kernelspec": {
      "name": "python3",
      "display_name": "Python 3"
    },
    "language_info": {
      "name": "python"
    }
  },
  "cells": [
    {
      "cell_type": "markdown",
      "metadata": {
        "id": "_wTSbrX_HaHD"
      },
      "source": [
        "# Метод опорных векторов"
      ]
    },
    {
      "cell_type": "code",
      "metadata": {
        "id": "QrZ7Dpx-I_Z8"
      },
      "source": [
        "from sklearn.svm import SVC\n",
        "from sklearn import datasets\n",
        "import numpy as np\n",
        "import matplotlib.pyplot as plt"
      ],
      "execution_count": null,
      "outputs": []
    },
    {
      "cell_type": "markdown",
      "metadata": {
        "id": "nZgNCY30Hv6f"
      },
      "source": [
        "Сегодня мы обсудим метод классического обучения, который, несмотря на то, что был предложен очень давно, до сих пор решает некоторые задачи на удивление с хорошим качеством.\n",
        "\n",
        "Начнем мы с посмотрим на вот такой игрушечный пример с датасетом, хранящим информацию о ирисах\n",
        "\n"
      ]
    },
    {
      "cell_type": "markdown",
      "metadata": {
        "id": "JkwvJTTgJDHL"
      },
      "source": [
        "Построим график, на котором отложим то, как делятся виды setosa и versicolor по длине и ширине лепестка  "
      ]
    },
    {
      "cell_type": "code",
      "metadata": {
        "id": "UvZ2a5hlJxoG"
      },
      "source": [
        "iris= datasets.load_iris()\n",
        "X = iris[\"data\"][:, (2, 3)]  # petal length, petal width\n",
        "y = iris[\"target\"]\n",
        "setosa_or_versicolor = (y == 0) | (y == 1)\n",
        "X = X[setosa_or_versicolor]\n",
        "y = y[setosa_or_versicolor]"
      ],
      "execution_count": null,
      "outputs": []
    },
    {
      "cell_type": "code",
      "metadata": {
        "id": "xH-Xexp5MR-h"
      },
      "source": [
        "def plot_2iris(iris= datasets.load_iris()):\n",
        "  X = iris[\"data\"][:, (2, 3)]  # petal length, petal width\n",
        "  y = iris[\"target\"]\n",
        "  setosa_or_versicolor = (y == 0) | (y == 1)\n",
        "  X = X[setosa_or_versicolor]\n",
        "  y = y[setosa_or_versicolor]\n",
        "  plt.plot(X[:, 0][y==1], X[:, 1][y==1], \"bs\")\n",
        "  plt.plot(X[:, 0][y==0], X[:, 1][y==0], \"yo\")\n",
        "  plt.ylabel(\"Petal width\", fontsize=14)\n",
        "  plt.xlabel(\"Petal length\", fontsize=14)\n",
        "  plt.axis([0, 5.5, 0, 2])"
      ],
      "execution_count": null,
      "outputs": []
    },
    {
      "cell_type": "code",
      "metadata": {
        "id": "ursXhkW9Ixt_",
        "colab": {
          "base_uri": "https://localhost:8080/",
          "height": 233
        },
        "outputId": "274707ae-3d43-403f-b701-f4a5adc40019"
      },
      "source": [
        "plt.figure(figsize=(12,3))\n",
        "plot_2iris()\n",
        "plt.show()"
      ],
      "execution_count": null,
      "outputs": [
        {
          "output_type": "display_data",
          "data": {
            "image/png": "[encoded data removed]",
            "text/plain": [
              "<Figure size 864x216 with 1 Axes>"
            ]
          },
          "metadata": {
            "needs_background": "light"
          }
        }
      ]
    },
    {
      "cell_type": "markdown",
      "metadata": {
        "id": "JfusPqt7J0ZL"
      },
      "source": [
        "Видим, что разделение идеально.\n",
        "Но мы хотим для любого цвветка, померив длину и ширину лепестка, говорить точно - к какому из двух видов он относится. Нам нужно провести границу - **решающую границу**, с одной стороны от которой мы говорим, что цветок - setosa, а с другой - versicolor\n",
        "\n",
        "Но как ее провести?\n",
        "\n",
        "Можно так:"
      ]
    },
    {
      "cell_type": "code",
      "metadata": {
        "id": "4FZCgDSMIz2T",
        "colab": {
          "base_uri": "https://localhost:8080/",
          "height": 233
        },
        "outputId": "ae122afd-70a5-4ff8-a047-082413abb872"
      },
      "source": [
        "plt.figure(figsize=(12,3))\n",
        "plot_2iris()\n",
        "plt.axvline(x=2, ymin = 0, ymax = 2, color=\"red\", linewidth=5)\n",
        "plt.show()"
      ],
      "execution_count": null,
      "outputs": [
        {
          "output_type": "display_data",
          "data": {
            "image/png": "[encoded data removed]",
            "text/plain": [
              "<Figure size 864x216 with 1 Axes>"
            ]
          },
          "metadata": {
            "needs_background": "light"
          }
        }
      ]
    },
    {
      "cell_type": "markdown",
      "metadata": {
        "id": "TZzGS_eKMBSO"
      },
      "source": [
        "Или так"
      ]
    },
    {
      "cell_type": "code",
      "metadata": {
        "id": "D7aRX2zoLgon",
        "colab": {
          "base_uri": "https://localhost:8080/",
          "height": 233
        },
        "outputId": "996b0349-bc36-42da-b910-5da7c008c664"
      },
      "source": [
        "plt.figure(figsize=(12,3))\n",
        "plot_2iris()\n",
        "plt.axvline(x=2.8, ymin = 0, ymax = 2, color=\"red\", linewidth=5)\n",
        "plt.show()"
      ],
      "execution_count": null,
      "outputs": [
        {
          "output_type": "display_data",
          "data": {
            "image/png": "[encoded data removed]",
            "text/plain": [
              "<Figure size 864x216 with 1 Axes>"
            ]
          },
          "metadata": {
            "needs_background": "light"
          }
        }
      ]
    },
    {
      "cell_type": "markdown",
      "metadata": {
        "id": "6eJDBbUQNB7M"
      },
      "source": [
        "Вообще говоря, можно проводить не только горизонтальные линии. Можно и с наклоном"
      ]
    },
    {
      "cell_type": "code",
      "metadata": {
        "id": "LWyq50uHNINb",
        "colab": {
          "base_uri": "https://localhost:8080/",
          "height": 233
        },
        "outputId": "d819eac7-c5dd-4211-8b14-71ae17a80689"
      },
      "source": [
        "plt.figure(figsize=(12,3))\n",
        "plot_2iris()\n",
        "x0 = np.linspace(0, 5, 200)\n",
        "for (b, k) in ((1.1, 2), (-2, -5), (-3, -9), (5, 12)):\n",
        "  y0 = b * x0 - k\n",
        "  plt.plot(x0, y0, linewidth=5)\n",
        "plt.show()"
      ],
      "execution_count": null,
      "outputs": [
        {
          "output_type": "display_data",
          "data": {
            "image/png": "[encoded data removed]",
            "text/plain": [
              "<Figure size 864x216 with 1 Axes>"
            ]
          },
          "metadata": {
            "needs_background": "light"
          }
        }
      ]
    },
    {
      "cell_type": "markdown",
      "metadata": {
        "id": "yCR1NKDAPEAA"
      },
      "source": [
        "## Maximum margin classifier"
      ]
    },
    {
      "cell_type": "markdown",
      "metadata": {
        "id": "RYvonLgLPHM0"
      },
      "source": [
        "Мы хотим провести такую разделяющую границу, чтобы минимальное расстояние между ней и объектом из нашей обучающей выборки было максимально\n",
        "\n",
        "$$\\max_b \\min dist(x, b)$$\n",
        "\n",
        "$$ \\min dist(x, b) $$ называется **зазором** (margin)"
      ]
    },
    {
      "cell_type": "code",
      "metadata": {
        "id": "y2rAp9WKPHbM"
      },
      "source": [
        "def plot_svc_decision_boundary(svm_clf, xmin, xmax):\n",
        "    w = svm_clf.coef_[0]\n",
        "    b = svm_clf.intercept_[0]\n",
        "\n",
        "    # At the decision boundary, w0*x0 + w1*x1 + b = 0\n",
        "    # => x1 = -w0/w1 * x0 - b/w1\n",
        "    x0 = np.linspace(xmin, xmax, 200)\n",
        "    decision_boundary = -w[0]/w[1] * x0 - b/w[1]\n",
        "\n",
        "    margin = 1/w[1]\n",
        "    gutter_up = decision_boundary + margin\n",
        "    gutter_down = decision_boundary - margin\n",
        "\n",
        "    svs = svm_clf.support_vectors_\n",
        "    plt.scatter(svs[:, 0], svs[:, 1], s=180, facecolors='#FFAAAA')\n",
        "    plt.plot(x0, decision_boundary, \"k-\", linewidth=2)\n",
        "    plt.plot(x0, gutter_up, \"k--\", linewidth=2)\n",
        "    plt.plot(x0, gutter_down, \"k--\", linewidth=2)"
      ],
      "execution_count": null,
      "outputs": []
    },
    {
      "cell_type": "code",
      "metadata": {
        "id": "LQpbhsA8Q556",
        "colab": {
          "base_uri": "https://localhost:8080/",
          "height": 233
        },
        "outputId": "0edf00d2-5778-496d-a8a3-04935c01834d"
      },
      "source": [
        "svm_clf = SVC(kernel=\"linear\", C=np.inf)\n",
        "svm_clf.fit(X, y)\n",
        "\n",
        "x0 = np.linspace(0, 5.5, 200)\n",
        "pred_1 = 5*x0 - 20\n",
        "pred_2 = x0 - 1.8\n",
        "pred_3 = 0.1 * x0 + 0.5\n",
        "\n",
        "plt.figure(figsize=(12,3))\n",
        "plot_svc_decision_boundary(svm_clf, 0, 5.5)\n",
        "\n",
        "plot_2iris()\n",
        "plt.show()"
      ],
      "execution_count": null,
      "outputs": [
        {
          "output_type": "display_data",
          "data": {
            "image/png": "[encoded data removed]",
            "text/plain": [
              "<Figure size 864x216 with 1 Axes>"
            ]
          },
          "metadata": {
            "needs_background": "light"
          }
        }
      ]
    },
    {
      "cell_type": "markdown",
      "metadata": {
        "id": "PUlCoI-8Q--M"
      },
      "source": [
        "Вроде бы все работает замечательно. Но что произойдет, если мы добавим один выброс - цветок, который мы разметили неверно?"
      ]
    },
    {
      "cell_type": "code",
      "metadata": {
        "id": "yQWcYGZpQ65P",
        "colab": {
          "base_uri": "https://localhost:8080/"
        },
        "outputId": "380e4a40-1b61-48c7-9bb0-107da240fb59"
      },
      "source": [
        "svm_clf = SVC(kernel=\"linear\", C=np.inf)\n",
        "X_out = np.concatenate([X, np.array([3.2, 0.8]).reshape(1, 2)], axis=0)\n",
        "y_out = np.concatenate([y, np.array([0])])\n",
        "\n",
        "svm_clf.fit(X_out, y_out)"
      ],
      "execution_count": null,
      "outputs": [
        {
          "output_type": "execute_result",
          "data": {
            "text/plain": [
              "SVC(C=inf, kernel='linear')"
            ]
          },
          "metadata": {},
          "execution_count": 10
        }
      ]
    },
    {
      "cell_type": "code",
      "metadata": {
        "id": "yekfyGymRbvO",
        "colab": {
          "base_uri": "https://localhost:8080/",
          "height": 217
        },
        "outputId": "384f9aea-e572-4662-e59c-66efa41b3eba"
      },
      "source": [
        "x0 = np.linspace(0, 5.5, 200)\n",
        "pred_1 = 5*x0 - 20\n",
        "pred_2 = x0 - 1.8\n",
        "pred_3 = 0.1 * x0 + 0.5\n",
        "\n",
        "plt.figure(figsize=(12,2.7))\n",
        "\n",
        "plot_svc_decision_boundary(svm_clf, 0, 5.5)\n",
        "plot_2iris()\n",
        "plt.axis([0, 5.5, 0, 2])\n",
        "plt.show()"
      ],
      "execution_count": null,
      "outputs": [
        {
          "output_type": "display_data",
          "data": {
            "image/png": "[encoded data removed]",
            "text/plain": [
              "<Figure size 864x194.4 with 1 Axes>"
            ]
          },
          "metadata": {
            "needs_background": "light"
          }
        }
      ]
    },
    {
      "cell_type": "markdown",
      "metadata": {
        "id": "VohpHOCUSFmq"
      },
      "source": [
        "Наше решение очень сильно поменялось. Всего из-за одного выброса. У наше модели большой variance - она чувствительна к шуму в данных.\n"
      ]
    },
    {
      "cell_type": "markdown",
      "metadata": {
        "id": "M5aJCF7oUvXd"
      },
      "source": [
        "Более того, мы можем добавить такой выброс, что мы в принципе не сможем провести прямую, которая однозначно разделит точки"
      ]
    },
    {
      "cell_type": "code",
      "metadata": {
        "id": "GkSgaVDQRdP_",
        "colab": {
          "base_uri": "https://localhost:8080/",
          "height": 287
        },
        "outputId": "314202f8-e049-4da9-b2e1-cd4c69f72ed8"
      },
      "source": [
        "X_out = np.concatenate([X, np.array([3.2, 0.8]).reshape(1, 2)], axis=0)\n",
        "y_out = np.concatenate([y, np.array([0])])\n",
        "\n",
        "\n",
        "\n",
        "X_out = np.concatenate([X, np.array([3.4, 1.3]).reshape(1, 2)], axis=0)\n",
        "y_out = np.concatenate([y, np.array([0])])\n",
        "\n",
        "plt.plot(X_out[:, 0][y_out==1], X_out[:, 1][y_out==1], \"bs\")\n",
        "plt.plot(X_out[:, 0][y_out==0], X_out[:, 1][y_out==0], \"yo\")\n",
        "plt.ylabel(\"Petal width\", fontsize=14)\n",
        "plt.xlabel(\"Petal length\", fontsize=14)\n",
        "plt.axis([0, 5.5, 0, 2])\n",
        "plt.show()"
      ],
      "execution_count": null,
      "outputs": [
        {
          "output_type": "display_data",
          "data": {
            "image/png": "[encoded data removed]",
            "text/plain": [
              "<Figure size 432x288 with 1 Axes>"
            ]
          },
          "metadata": {
            "needs_background": "light"
          }
        }
      ]
    },
    {
      "cell_type": "markdown",
      "metadata": {
        "id": "4Sxaj-GwU9B3"
      },
      "source": [
        "## Soft Margin Classifier = Support Vector Classifier\n",
        "\n",
        "Разрешим нашей модели частично игнорировать выбросы. Пусть за то, насколько сильно модель может проигнорировать выбросы, будет отвечать параметр C. Чем он больше - тем бОльший штраф мы даем за любой объект, который лежит не с той стороны обучающей выборки\n",
        "\n",
        "<img src=\"https://kodomo.fbb.msu.ru/FBB/year_20/ml/svm_c.png\" width=\"400\">"
      ]
    },
    {
      "cell_type": "markdown",
      "metadata": {
        "id": "Q-oeV4bQVLUg"
      },
      "source": [
        "В такой постановке разделение возможно"
      ]
    },
    {
      "cell_type": "code",
      "metadata": {
        "id": "iyVN2iLnVZ2d",
        "colab": {
          "base_uri": "https://localhost:8080/",
          "height": 287
        },
        "outputId": "718faa80-7f94-4e16-82ef-eb276a96f24e"
      },
      "source": [
        "X_out = np.concatenate([X, np.array([3.4, 1.3]).reshape(1, 2)], axis=0)\n",
        "y_out = np.concatenate([y, np.array([0])])\n",
        "\n",
        "svm_clf = SVC(kernel=\"linear\", C=1)\n",
        "svm_clf.fit(X_out, y_out)\n",
        "\n",
        "plot_svc_decision_boundary(svm_clf, 0, 5.5)\n",
        "\n",
        "plt.plot(X_out[:, 0][y_out==1], X_out[:, 1][y_out==1], \"bs\")\n",
        "plt.plot(X_out[:, 0][y_out==0], X_out[:, 1][y_out==0], \"yo\")\n",
        "plt.ylabel(\"Petal width\", fontsize=14)\n",
        "plt.xlabel(\"Petal length\", fontsize=14)\n",
        "plt.axis([0, 5.5, 0, 2])\n",
        "plt.show()"
      ],
      "execution_count": null,
      "outputs": [
        {
          "output_type": "display_data",
          "data": {
            "image/png": "[encoded data removed]",
            "text/plain": [
              "<Figure size 432x288 with 1 Axes>"
            ]
          },
          "metadata": {
            "needs_background": "light"
          }
        }
      ]
    },
    {
      "cell_type": "markdown",
      "metadata": {
        "id": "ALi_D4iWVfB-"
      },
      "source": [
        "Меняя параметр C, мы будем менять и чувствительность нашего решения к шуму - чем больше C - больше мы реагируем на шум"
      ]
    },
    {
      "cell_type": "markdown",
      "metadata": {
        "id": "n2U8KIslWpp2"
      },
      "source": [
        "## Метод опорных векторов\n",
        "\n",
        "По сути мы с вами получили метод опорных векторов. Остается один вопрос - а почему метод вдруг назван методом **опорных векторов**\n",
        "\n",
        "support vectors"
      ]
    },
    {
      "cell_type": "markdown",
      "metadata": {
        "id": "_EOyywxLaKwY"
      },
      "source": [
        "Оказыввается, то, с какой стороны от решающей границы лежит объект, который мы классифицируем определяется методом на основании **decision function**. Если ее значение меньше 0 - объект лежит со стороны нулевого класса, больше - со стороны 1 класса.\n",
        "\n"
      ]
    },
    {
      "cell_type": "markdown",
      "metadata": {
        "id": "JcWYMoGtbh3N"
      },
      "source": [
        "Сама же функция вычисляется по следующей формуле:"
      ]
    },
    {
      "cell_type": "markdown",
      "metadata": {
        "id": "lcEHMAuUZWSc"
      },
      "source": [
        "$$ decision_j = \\sum_{i \\in train\\_objects} c_i y_i <x_i, x_j> + b $$\n",
        "\n"
      ]
    },
    {
      "cell_type": "markdown",
      "metadata": {
        "id": "jaepJtDYbzk6"
      },
      "source": [
        "Что в ней написано?\n",
        "\n",
        "Для определения решения для некоего объекта j, мы считаем сумму его скалярных произведений с объектами выборки, умноженными на некий коэффициент $c_i$ и метку класса $y_i$.\n",
        "\n",
        "Скалярное произведение мы считаем в пространстве признаков наших объектов.\n",
        "\n",
        "y_i принимает значение -1 для объектов нулевого класса и +1 для позитивного\n",
        "\n",
        "Остается разобраться с $c_i$\n"
      ]
    },
    {
      "cell_type": "markdown",
      "metadata": {
        "id": "PFJIbIj4eShR"
      },
      "source": [
        "Этот коэффиент равен 0 почти для всех обхектов из тренировочной выборки кроме тех, что определяют границу (на рисунке подсвечены)"
      ]
    },
    {
      "cell_type": "code",
      "metadata": {
        "id": "5VU2WFwlfDmu",
        "colab": {
          "base_uri": "https://localhost:8080/",
          "height": 287
        },
        "outputId": "37390397-400f-4047-890a-88d78febcf1a"
      },
      "source": [
        "X_out = np.concatenate([X, np.array([3.4, 1.3]).reshape(1, 2)], axis=0)\n",
        "y_out = np.concatenate([y, np.array([0])])\n",
        "\n",
        "svm_clf = SVC(kernel=\"linear\", C=1)\n",
        "svm_clf.fit(X_out, y_out)\n",
        "\n",
        "plot_svc_decision_boundary(svm_clf, 0, 5.5)\n",
        "\n",
        "plt.plot(X_out[:, 0][y_out==1], X_out[:, 1][y_out==1], \"bs\")\n",
        "plt.plot(X_out[:, 0][y_out==0], X_out[:, 1][y_out==0], \"yo\")\n",
        "plt.ylabel(\"Petal width\", fontsize=14)\n",
        "plt.xlabel(\"Petal length\", fontsize=14)\n",
        "plt.axis([0, 5.5, 0, 2])\n",
        "plt.show()"
      ],
      "execution_count": null,
      "outputs": [
        {
          "output_type": "display_data",
          "data": {
            "image/png": "[encoded data removed]",
            "text/plain": [
              "<Figure size 432x288 with 1 Axes>"
            ]
          },
          "metadata": {
            "needs_background": "light"
          }
        }
      ]
    },
    {
      "cell_type": "markdown",
      "metadata": {
        "id": "__lOqtMOfHk9"
      },
      "source": [
        "Все объекты, у которых $c_i != 0$ и называются опорными векторами. Формула может быть переписана, тем самым, следующим образом:"
      ]
    },
    {
      "cell_type": "markdown",
      "metadata": {
        "id": "Brsj1dj5fU6I"
      },
      "source": [
        "$$ decision_j = \\sum_{i \\in support\\_vectors} c_i y_i <x_i, x_j> + b $$\n",
        "\n"
      ]
    },
    {
      "cell_type": "markdown",
      "metadata": {
        "id": "cSiXoFVDbwkP"
      },
      "source": [
        "То есть решение о принадлежности объекта к тому или иному классу выносится на основе (обычно) малой части тренировочной выборке - опорных векторах - потому метод и называется методом опорных векторов"
      ]
    },
    {
      "cell_type": "markdown",
      "metadata": {
        "id": "eN65EEwaiS6H"
      },
      "source": [
        "## Переход в пространство большей размерности\n",
        "\n",
        "Представим себе, что в исходном пространстве признаков наши объекты в принципе неразделимы.\n",
        "\n",
        "\n",
        "\n",
        "\n"
      ]
    },
    {
      "cell_type": "code",
      "metadata": {
        "id": "gRCMohiuXg2v",
        "colab": {
          "base_uri": "https://localhost:8080/",
          "height": 292
        },
        "outputId": "3447a6b0-397d-4d90-b2d7-5b8350ee7c53"
      },
      "source": [
        "from sklearn.datasets import make_moons\n",
        "X, y = make_moons(n_samples=100, noise=0.15, random_state=42)\n",
        "\n",
        "def plot_dataset(X, y, axes):\n",
        "    plt.plot(X[:, 0][y==0], X[:, 1][y==0], \"bs\")\n",
        "    plt.plot(X[:, 0][y==1], X[:, 1][y==1], \"g^\")\n",
        "    plt.axis(axes)\n",
        "    plt.grid(True, which='both')\n",
        "    plt.xlabel(r\"$x_1$\", fontsize=20)\n",
        "    plt.ylabel(r\"$x_2$\", fontsize=20, rotation=0)\n",
        "\n",
        "plot_dataset(X, y, [-1.5, 2.5, -1, 1.5])\n",
        "plt.show()"
      ],
      "execution_count": null,
      "outputs": [
        {
          "output_type": "display_data",
          "data": {
            "image/png": "[encoded data removed]",
            "text/plain": [
              "<Figure size 432x288 with 1 Axes>"
            ]
          },
          "metadata": {
            "needs_background": "light"
          }
        }
      ]
    },
    {
      "cell_type": "markdown",
      "metadata": {
        "id": "Ze6whoW1iyjk"
      },
      "source": [
        "Тогда кажется разумным перейти в пространство бОльшей размерности и уже там применить наш метод.\n"
      ]
    },
    {
      "cell_type": "markdown",
      "metadata": {
        "id": "vX8IHI4pi9Q6"
      },
      "source": [
        "Например, можно взять и вместо исходных признаков\n",
        "\n",
        "$$x_1, x_2$$\n",
        "\n",
        "применять их комбинации вплоть до третьей степени получающегося полинома\n",
        "\n",
        "$x_1,~x_2,~x_1^2,~x_2^2,~x_1x_2, ~x_1^2x_2,~x_2^2x_1,~x_1^3,~x_2^3 $"
      ]
    },
    {
      "cell_type": "code",
      "metadata": {
        "id": "hDZG7pS9iz7W",
        "colab": {
          "base_uri": "https://localhost:8080/",
          "height": 346
        },
        "outputId": "14b70583-d088-4d84-fb01-75ca605e6984"
      },
      "source": [
        "from sklearn.preprocessing import StandardScaler, PolynomialFeatures\n",
        "from sklearn.pipeline import Pipeline\n",
        "from sklearn.svm import LinearSVC\n",
        "\n",
        "def plot_predictions(clf, axes):\n",
        "    x0s = np.linspace(axes[0], axes[1], 100)\n",
        "    x1s = np.linspace(axes[2], axes[3], 100)\n",
        "    x0, x1 = np.meshgrid(x0s, x1s)\n",
        "    X = np.c_[x0.ravel(), x1.ravel()]\n",
        "    y_pred = clf.predict(X).reshape(x0.shape)\n",
        "    y_decision = clf.decision_function(X).reshape(x0.shape)\n",
        "    plt.contourf(x0, x1, y_pred, cmap=plt.cm.brg, alpha=0.2)\n",
        "    plt.contourf(x0, x1, y_decision, cmap=plt.cm.brg, alpha=0.1)\n",
        "\n",
        "\n",
        "clf = Pipeline([\n",
        "        (\"poly_features\", PolynomialFeatures(degree=3)),\n",
        "        (\"scaler\", StandardScaler()),\n",
        "        (\"svm_clf\", LinearSVC(C=10, loss=\"hinge\", random_state=42))\n",
        "    ])\n",
        "\n",
        "clf.fit(X, y)\n",
        "plot_predictions(clf, [-1.5, 2.5, -1, 1.5])\n",
        "plot_dataset(X, y, [-1.5, 2.5, -1, 1.5])\n",
        "\n",
        "plt.show()"
      ],
      "execution_count": null,
      "outputs": [
        {
          "output_type": "stream",
          "name": "stderr",
          "text": [
            "/usr/local/lib/python3.7/dist-packages/sklearn/svm/_base.py:1208: ConvergenceWarning: Liblinear failed to converge, increase the number of iterations.\n",
            "  ConvergenceWarning,\n"
          ]
        },
        {
          "output_type": "display_data",
          "data": {
            "image/png": "[encoded data removed]",
            "text/plain": [
              "<Figure size 432x288 with 1 Axes>"
            ]
          },
          "metadata": {
            "needs_background": "light"
          }
        }
      ]
    },
    {
      "cell_type": "markdown",
      "metadata": {
        "id": "iPNSymXskG_v"
      },
      "source": [
        "Подход работает, но есть один нюанс.\n",
        "\n",
        "Что произойдет, если пространство признаков, в которое нам надо перейти - велико, и объектов у нас много?\n",
        "\n",
        "Скорее всего - мы просто не сможем обучить модель. Кончится оперативная память и все упадет."
      ]
    },
    {
      "cell_type": "markdown",
      "metadata": {
        "id": "QrRh3B7rh3jV"
      },
      "source": [
        "### Kernel trick\n",
        "\n",
        "Но в случае SVM за счет того, что функция решений выглядит следующим образом:\n",
        "\n",
        "$$ decision_j = \\sum_{i \\in support\\_vectors} c_i y_i <x_i, x_j> + b $$\n",
        "\n",
        "можно сделать иначе. Для подсчета ее значения нам не нужно знать, как выглядят объекты в пространстве бОльшей размерности, а только уметь узнавать скалярное произведение между ними.\n",
        "\n",
        "Оказывается, в некоторых случаях это можно делать, не переходя в это пространство, а вычисляя специальную **kernel function**\n",
        "\n",
        "<img src=\"https://kodomo.fbb.msu.ru/FBB/year_20/ml/svm_kernel_trick.png\" width=\"500\">\n",
        "\n",
        "Примеры ядер :\n",
        "\n",
        "* $k(x_i, x_j) = (<x_i, x_j> + c)^d, с, d \\in \\mathbb{R}$ - полиномиальное ядро, считает расстояние между объектами в пространстве размерности d\n",
        "\n",
        "* $k(x_i, x_j) = \\frac{1}{z} e^{-\\frac{h(x_i, x_j)^2}{h}}$ - радиальная базисная функция RBF\n",
        "\n",
        "\n",
        "\n"
      ]
    },
    {
      "cell_type": "code",
      "metadata": {
        "id": "qpf9VawoivIQ",
        "colab": {
          "base_uri": "https://localhost:8080/",
          "height": 292
        },
        "outputId": "722d1385-38fe-4cd5-ef0c-803f9d0e6838"
      },
      "source": [
        "def plot_predictions(clf, axes):\n",
        "    x0s = np.linspace(axes[0], axes[1], 100)\n",
        "    x1s = np.linspace(axes[2], axes[3], 100)\n",
        "    x0, x1 = np.meshgrid(x0s, x1s)\n",
        "    X = np.c_[x0.ravel(), x1.ravel()]\n",
        "    y_pred = clf.predict(X).reshape(x0.shape)\n",
        "    y_decision = clf.decision_function(X).reshape(x0.shape)\n",
        "    plt.contourf(x0, x1, y_pred, cmap=plt.cm.brg, alpha=0.2)\n",
        "    plt.contourf(x0, x1, y_decision, cmap=plt.cm.brg, alpha=0.1)\n",
        "\n",
        "\n",
        "\n",
        "clf = Pipeline([\n",
        "        (\"scaler\", StandardScaler()),\n",
        "        (\"svm_clf\", SVC(kernel=\"poly\", degree=3, coef0=1, C=10))\n",
        "    ])\n",
        "\n",
        "clf.fit(X, y)\n",
        "plot_predictions(clf, [-1.5, 2.5, -1, 1.5])\n",
        "plot_dataset(X, y, [-1.5, 2.5, -1, 1.5])\n",
        "\n",
        "plt.show()"
      ],
      "execution_count": null,
      "outputs": [
        {
          "output_type": "display_data",
          "data": {
            "image/png": "[encoded data removed]",
            "text/plain": [
              "<Figure size 432x288 with 1 Axes>"
            ]
          },
          "metadata": {
            "needs_background": "light"
          }
        }
      ]
    },
    {
      "cell_type": "markdown",
      "metadata": {
        "id": "d010EgQrkvl3"
      },
      "source": [
        "## Вероятности\n",
        "\n",
        "SVM сам по себе не умеет предсказывать вероятности. Есть только decision function.\n",
        "\n",
        "К этому можно отнестись философски, так как многим методам/оценкам вероятность и не нужна. Тому же roc-auc нужен именно y_score."
      ]
    },
    {
      "cell_type": "markdown",
      "metadata": {
        "id": "rRtnks3zljOl"
      },
      "source": [
        "В чисто виде decision function применять в роли вероятности нельзя - она не ограничена на отрезке от 0 до 1, у нее нет точного максимума и точного минимума. Кроме того, она плохо отображает вероятность (даже если мы отнормируем ее как-то в отрезок от 0 до 1):"
      ]
    },
    {
      "cell_type": "code",
      "metadata": {
        "id": "SCwa28lfnYEO"
      },
      "source": [
        "# sklearn\n",
        "from sklearn.calibration import CalibratedClassifierCV, calibration_curve\n",
        "from sklearn.metrics import brier_score_loss\n",
        "def plot_calibration_curve(clf, X_test, Y_test, name='classifier'):\n",
        "    plt.plot([0, 1], [0, 1], \"k:\", label=\"Perfectly calibrated\")\n",
        "    y_pred = clf.predict(X_test)\n",
        "    if hasattr(clf, \"predict_proba\"):\n",
        "        prob_pos = clf.predict_proba(X_test)[:, 1]\n",
        "    else:  # use decision function\n",
        "        prob_pos = clf.decision_function(X_test)\n",
        "        prob_pos = \\\n",
        "            (prob_pos - prob_pos.min()) / (prob_pos.max() - prob_pos.min())\n",
        "    clf_score = brier_score_loss(Y_test, prob_pos, pos_label=y.max())\n",
        "    fraction_of_positives, mean_predicted_value = \\\n",
        "            calibration_curve(Y_test, prob_pos, n_bins=10)\n",
        "\n",
        "    plt.plot(mean_predicted_value, fraction_of_positives, \"s-\",\n",
        "                label=\"%s Score=(%1.3f)\" % (name, clf_score))\n",
        "\n",
        "\n",
        "    plt.ylabel(\"Fraction of positives\")\n",
        "    plt.ylim([-0.05, 1.05])\n",
        "    plt.legend(loc=\"best\")"
      ],
      "execution_count": null,
      "outputs": []
    },
    {
      "cell_type": "code",
      "metadata": {
        "id": "woC_5r-tm2Vo"
      },
      "source": [
        "from sklearn.model_selection import train_test_split\n",
        "X, Y = datasets.make_classification(n_samples=10000, n_features=20,\n",
        "                                    n_informative=2, n_redundant=10,\n",
        "                                    random_state=777)\n",
        "\n",
        "X_train, X_test, Y_train, Y_test = train_test_split(X, Y, test_size=0.99,\n",
        "                                                    random_state=777)"
      ],
      "execution_count": null,
      "outputs": []
    },
    {
      "cell_type": "code",
      "metadata": {
        "id": "tV1YbACknS0l",
        "colab": {
          "base_uri": "https://localhost:8080/",
          "height": 265
        },
        "outputId": "f57f8ab9-5ba2-4bda-d8d2-2554c347dc70"
      },
      "source": [
        "svm = SVC(kernel=\"linear\")\n",
        "svm.fit(X_train, Y_train)\n",
        "plot_calibration_curve(svm, X_test, Y_test)"
      ],
      "execution_count": null,
      "outputs": [
        {
          "output_type": "display_data",
          "data": {
            "image/png": "[encoded data removed]",
            "text/plain": [
              "<Figure size 432x288 with 1 Axes>"
            ]
          },
          "metadata": {
            "needs_background": "light"
          }
        }
      ]
    },
    {
      "cell_type": "markdown",
      "metadata": {
        "id": "l3rEpbDUnfGe"
      },
      "source": [
        "В идеале, если модель предсказывает вероятность 0.2, то только 20% объектов, для которых предсказана такая вероятность, должны относиться к 1 классу. И аналогично для других вероятностей.\n",
        "\n",
        "В нашем же случае мы видим серьезное отклонение"
      ]
    },
    {
      "cell_type": "markdown",
      "metadata": {
        "id": "zSrCfkj3k2Km"
      },
      "source": [
        "Но можно получить вероятности из decision function специальной процедурой. Конкретно - подаем decision function в качестве единственного признака классификатору, который вероятности предсказывать умеет.\n",
        "\n",
        "Например, логистической регресии\n",
        "\n",
        "<img src=\"https://kodomo.fbb.msu.ru/FBB/year_20/ml/platt_scaling.png\" width=\"500\">"
      ]
    },
    {
      "cell_type": "markdown",
      "metadata": {
        "id": "UTyaZemak7K8"
      },
      "source": [
        "Можно ли учить логистическую регрессию на той же выборке, на которой учили SVM? Нет.\n",
        "\n",
        "Потому используем либо отдельный валидационный датасет. Либо учимся kfold кроссвалидацией, которую разберем позже."
      ]
    },
    {
      "cell_type": "markdown",
      "metadata": {
        "id": "hDnI_l7nk81e"
      },
      "source": [
        "### Plat scaling\n",
        "\n",
        "Процедура реализована в SVM и ее можно запустить передав нужный параметр\n",
        "\n",
        "Что мы хотим видеть для вероятностей, предсказываемых идеальным классификатором?\n",
        "\n",
        "Мы хотим, чтобы доля объектов, принадлежащих классу X, для которых классификатор выдал вероятность p принадлежать классу X, была равна p\n",
        "\n",
        "Если разбить все наши объекты на бины по предсказываемым вероятностям, то можно для каждого бина посчитать долю объектов целевого класса и построить полученную зависимость. В идеале должна получиться прямая"
      ]
    },
    {
      "cell_type": "code",
      "metadata": {
        "id": "w9vx6Hkok_x_"
      },
      "source": [
        "from sklearn.model_selection import train_test_split"
      ],
      "execution_count": null,
      "outputs": []
    },
    {
      "cell_type": "code",
      "metadata": {
        "id": "cBZzy2q0lBL8"
      },
      "source": [
        "X, Y = datasets.make_classification(n_samples=10000, n_features=20,\n",
        "                                    n_informative=2, n_redundant=10,\n",
        "                                    random_state=777)\n",
        "\n",
        "X_train, X_test, Y_train, Y_test = train_test_split(X, Y, test_size=0.99,\n",
        "                                                    random_state=777)"
      ],
      "execution_count": null,
      "outputs": []
    },
    {
      "cell_type": "code",
      "metadata": {
        "id": "Sz8nLILClCrc",
        "colab": {
          "base_uri": "https://localhost:8080/",
          "height": 265
        },
        "outputId": "3628d3ef-23eb-4286-caac-2808f7dad3e5"
      },
      "source": [
        "svm = SVC(kernel=\"linear\")\n",
        "svm.fit(X_train, Y_train)\n",
        "plot_calibration_curve(svm, X_test, Y_test)"
      ],
      "execution_count": null,
      "outputs": [
        {
          "output_type": "display_data",
          "data": {
            "image/png": "[encoded data removed]",
            "text/plain": [
              "<Figure size 432x288 with 1 Axes>"
            ]
          },
          "metadata": {
            "needs_background": "light"
          }
        }
      ]
    },
    {
      "cell_type": "markdown",
      "metadata": {
        "id": "pFu4i0rPlFMR"
      },
      "source": [
        "Можем применить встроенный в SVC Plat Scaling"
      ]
    },
    {
      "cell_type": "code",
      "metadata": {
        "id": "ZB-fUXfKlEuG",
        "colab": {
          "base_uri": "https://localhost:8080/",
          "height": 265
        },
        "outputId": "6721d654-1420-42ae-cf43-42e277bc2649"
      },
      "source": [
        "svm = SVC(kernel=\"linear\",  probability=True)\n",
        "svm.fit(X_train, Y_train)\n",
        "plot_calibration_curve(svm, X_test, Y_test)"
      ],
      "execution_count": null,
      "outputs": [
        {
          "output_type": "display_data",
          "data": {
            "image/png": "[encoded data removed]",
            "text/plain": [
              "<Figure size 432x288 with 1 Axes>"
            ]
          },
          "metadata": {
            "needs_background": "light"
          }
        }
      ]
    },
    {
      "cell_type": "markdown",
      "metadata": {
        "id": "h4wWwlISOmF0"
      },
      "source": [
        "## Переход от бинарной классификации к мультиклассовой\n",
        "\n",
        "Напрямую, мы не можем при помощи такого SVM решить задачу классификацию, отличную от бинарной. Поэтому чаще всего SVM упоминается в контекста бинарной классификации.\n",
        "\n",
        "Однако существуют подходы, позволяющие использовать SVM и для мультиклассовой классификации\n",
        "\n",
        "Один из них состоит в обучении множества бинарных классификаторов отличать:\n",
        "1. класс 0 от остальных\n",
        "2. класс 1 от остальных\n",
        "3. ....\n",
        "\n",
        "И далее выбирать класс, про который предсказание было наиболее верным\n",
        "\n",
        "![alttext](https://matlab4engineers.com/wp-content/uploads/2017/11/intro1.png)"
      ]
    },
    {
      "cell_type": "markdown",
      "metadata": {
        "id": "X2wgWLGCW_60"
      },
      "source": [
        "## Задача регрессии\n",
        "\n",
        "Можно адаптировать метод опорных векторов и для задачи регрессии. Однако разбирать в курсе теорию этого мы не будем"
      ]
    },
    {
      "cell_type": "markdown",
      "metadata": {
        "id": "328uRhUpoyy0"
      },
      "source": [
        "# Применение метода опорных векторов в биологии"
      ]
    },
    {
      "cell_type": "markdown",
      "metadata": {
        "id": "aXlcZpDOzROw"
      },
      "source": [
        "Метод опорных векторов до сих применяется в биологии, так как он хорошо работает на малых объемах данных. С правильно заданным пространством признаков SVM может работать лучше, чем нейросеть, обучаемая с \"нуля\".\n",
        "\n",
        "К недостаткам SVM можно отнести сравнительно малую скорость обучения модели и то, что при увеличении количества данных, качество SVM растет не так быстро, как у других методов. Кроме того, transfer learning с примением в качестве исходной модели SVM затруднителен.\n",
        "\n",
        "Рассмотрим пример одного из наиболее успешных применений SVM в биологии - gkmSVM + deltaSVM"
      ]
    },
    {
      "cell_type": "markdown",
      "metadata": {
        "id": "M8waAwee1S_q"
      },
      "source": [
        "### k-mer для классификации последовательностей"
      ]
    },
    {
      "cell_type": "markdown",
      "metadata": {
        "id": "lTtkMckW1y9N"
      },
      "source": [
        "Часто перед нами встает следующая задача: есть последовательности, содержащие определенный сигнал и последовательности, его не содержащие.\n",
        "Необходимо научиться отличать одни последовательности от других.\n",
        "\n",
        "Для решения такого рода задач можно использовать методы машинного обучения. Остается как-то описать наши последовательности.\n",
        "\n"
      ]
    },
    {
      "cell_type": "markdown",
      "metadata": {
        "id": "AQazd9Qg2oza"
      },
      "source": [
        "Часто для описания последовательностей используют просто то, сколько kmer - подпоследовательностей длины k встречается в каждой из них"
      ]
    },
    {
      "cell_type": "markdown",
      "metadata": {
        "id": "8bbllpj01MSH"
      },
      "source": [
        "\n",
        "<img src=\"https://kodomo.fbb.msu.ru/FBB/year_20/ml/kmer.png\" width=\"500\">"
      ]
    },
    {
      "cell_type": "markdown",
      "metadata": {
        "id": "cwVI9cfY3ucY"
      },
      "source": [
        "Описывать можно по-разному - например, сколько раз каждый kmer встретился\n",
        "Или просто - встретился kmer или нет"
      ]
    },
    {
      "cell_type": "markdown",
      "metadata": {
        "id": "yDkK-vB41arg"
      },
      "source": [
        "\n",
        "\n",
        "<img src=\"https://kodomo.fbb.msu.ru/FBB/year_20/ml/kmer_count.png\" width=\"500\">"
      ]
    },
    {
      "cell_type": "code",
      "metadata": {
        "id": "QP-a6XaX38dr"
      },
      "source": [
        "from itertools import product\n",
        "\n",
        "def all_kmers(kmer_size):\n",
        "    return [''.join(x) for x in product(*[\"ATGC\" for i in range(kmer_size)])]\n",
        "\n",
        "def kmer_count(seq, kmer_size):\n",
        "    dt = {x: 0 for x in all_kmers(kmer_size) }\n",
        "    print(dt)\n",
        "    for i in range(0, len(seq) - kmer_size):\n",
        "        kmer = seq[i:i+kmer_size]\n",
        "        dt[kmer] += 1\n",
        "    return dt"
      ],
      "execution_count": null,
      "outputs": []
    },
    {
      "cell_type": "code",
      "metadata": {
        "id": "uxplGNVG4Ti2",
        "colab": {
          "base_uri": "https://localhost:8080/"
        },
        "outputId": "d0e9880f-f87d-4f19-e7a2-9a3d4217957e"
      },
      "source": [
        "kmer_count(\"ATGAAG\", 2)"
      ],
      "execution_count": null,
      "outputs": [
        {
          "output_type": "stream",
          "name": "stdout",
          "text": [
            "{'AA': 0, 'AT': 0, 'AG': 0, 'AC': 0, 'TA': 0, 'TT': 0, 'TG': 0, 'TC': 0, 'GA': 0, 'GT': 0, 'GG': 0, 'GC': 0, 'CA': 0, 'CT': 0, 'CG': 0, 'CC': 0}\n"
          ]
        },
        {
          "output_type": "execute_result",
          "data": {
            "text/plain": [
              "{'AA': 1,\n",
              " 'AC': 0,\n",
              " 'AG': 0,\n",
              " 'AT': 1,\n",
              " 'CA': 0,\n",
              " 'CC': 0,\n",
              " 'CG': 0,\n",
              " 'CT': 0,\n",
              " 'GA': 1,\n",
              " 'GC': 0,\n",
              " 'GG': 0,\n",
              " 'GT': 0,\n",
              " 'TA': 0,\n",
              " 'TC': 0,\n",
              " 'TG': 1,\n",
              " 'TT': 0}"
            ]
          },
          "metadata": {},
          "execution_count": 26
        }
      ]
    },
    {
      "cell_type": "markdown",
      "metadata": {
        "id": "h5qRoL5uCgZO"
      },
      "source": [
        "#### Проблема подхода\n",
        "\n",
        "Основная проблема данного подхода - экспоненциальное увеличение числа различных kmer - а, следовательно, и объема потребляемой памяти.\n",
        "\n",
        "Кроме того, признаки становятся очень разреженными, и чем большие k используются, тем больше видна проблема того, что kmer, отличающиеся на одну букву, считаются абсолютно разными в таком признаковом пространстве."
      ]
    },
    {
      "cell_type": "markdown",
      "metadata": {
        "id": "AJdw_dAeDVFl"
      },
      "source": [
        "## gkmSVM\n",
        "\n",
        "Для решения этой проблемы были предложены **gapped kmers** - когда мы учитываем, что два kmer, которые отличаются друг от друга каким-то числом замен или вставок/удалений - тоже похожи.\n",
        "\n",
        "\n",
        "<img src=\"https://kodomo.fbb.msu.ru/FBB/year_20/ml/gapped_kmer.png\" width=\"500\">"
      ]
    },
    {
      "cell_type": "markdown",
      "metadata": {
        "id": "U4_aL2-5It2t"
      },
      "source": [
        "Модель, которая использует это при классификации последовательностей - gkmSVM (https://www.ncbi.nlm.nih.gov/pmc/articles/PMC4937197/)"
      ]
    },
    {
      "cell_type": "markdown",
      "metadata": {
        "id": "vvZ5NJBKI__2"
      },
      "source": [
        "## deltaSVM\n",
        "\n",
        "gkmSVM работает долго, в том числе на предсказании, где это критично. Можно огрубить модель.\n",
        "\n",
        "\n",
        "\n",
        "\n",
        "\n",
        "\n",
        "\n",
        "Для этого они предложили делать следующее\n",
        "\n",
        "<img src=\"https://kodomo.fbb.msu.ru/FBB/year_20/ml/deltaSVM1.png\" width=\"500\">\n",
        "\n",
        "Сначала обучаем gkmSVM модель разделять последовательности с сигналом и без него.\n",
        "\n",
        "После этого, при помощи decision function gkmSVM скорим все возможные kmer определенного размера, например, 10меры."
      ]
    },
    {
      "cell_type": "markdown",
      "metadata": {
        "id": "HEM9QDDHrvId"
      },
      "source": [
        "Теперь можем быстро получать оценку для каждой последовательности\n",
        "\n",
        "<img src=\"https://kodomo.fbb.msu.ru/FBB/year_21/deltaSVM0.5.png\" width=\"500\">"
      ]
    },
    {
      "cell_type": "markdown",
      "metadata": {
        "id": "LFQn6x6AryyE"
      },
      "source": [
        "\n",
        "Далее автора gkmSVM предложили интересный подход для другой задачи - классификации замен в регуляторных регионах генома на нейтральные и вредные.\n"
      ]
    },
    {
      "cell_type": "markdown",
      "metadata": {
        "id": "mkQO9LyTNY4a"
      },
      "source": [
        "<img src=\"https://kodomo.fbb.msu.ru/FBB/year_20/ml/deltaSVM2.png\" width=\"500\">\n",
        "\n",
        "После этого делаем следующее - пусть у нас есть исходная последовательность и мы хотим оценить эффект внесения однонуклеотидной мутации в нее.\n",
        "\n",
        "Возьмем все kmer, которые включают позицию замены в исходной последовательности и в мутированной.\n",
        "Для каждого kmer возьмем скор, который дает ему gkmSVM.\n",
        "\n",
        "Отдельно сложим скоры kmer для исходной последовательности и для мутированной, вычтем полученные суммы одну из другой.\n",
        "Полученный скор будет характеризовать эффект замены.\n",
        "\n",
        "\n"
      ]
    },
    {
      "cell_type": "markdown",
      "metadata": {
        "id": "wbxQ3e0HOxBh"
      },
      "source": [
        "Действительно, оказывается, что большие положительные значения скора корреляруют с увеличением сввязывания того или иного фактора / открытости хроматина, а маленькие - у уменьшением.\n",
        "\n",
        "<img src=\"https://kodomo.fbb.msu.ru/FBB/year_20/ml/deltaSVM3.png\" width=\"700\" height=\"400\">\n",
        "\n"
      ]
    },
    {
      "cell_type": "markdown",
      "metadata": {
        "id": "NPl_U4eGPqbM"
      },
      "source": [
        "#  Гиперпараметры и кросс-валидация\n",
        "\n",
        "Текст для ознакомления - <a href='https://arxiv.org/pdf/1811.12808.pdf'>Крайне рекомендуется к прочтению!</a>\n",
        "\n",
        "Мануалы sklearn по  <a href='https://scikit-learn.org/stable/modules/cross_validation.html'>кросс-валидации</a> тоже рекомендуются."
      ]
    },
    {
      "cell_type": "markdown",
      "metadata": {
        "id": "jBdbMwsqVWUT"
      },
      "source": [
        "## Гиперпараметры\n",
        "\n",
        "Есть параметры, а есть гиперпараметры.\n",
        "\n",
        "<b>Параметры</b> - т.н. \"веса\" модели, т.е. то, что подбирается во время обучения. <br>\n",
        "\n",
        "Например, у нас есть N признаков и мы строим на них линейную регрессию\n",
        "\n",
        "$$y = w_0 + w_1 x_1 + w_2x_2 +~...~+ w_n x_n$$\n",
        "\n",
        "В этом случае параметры, это веса $w_i$\n",
        "\n",
        "В случае SVM параметрами будут веса $c_i$ объектов из тренировочной выборки\n",
        "\n",
        "\n",
        "\n",
        "<b>Гиперпараметры</b> - те характеристики модели, которые фиксируются до обучения, влияют на процесс обучения, и не меняются сами во время обучения."
      ]
    },
    {
      "cell_type": "markdown",
      "metadata": {
        "id": "hC3siGCLVbt6"
      },
      "source": [
        "Например, мы уже знакомы с гиперпараметром <b>k в алгоритме kNN</b> и гиперпараметром <b>C</b>  SVM.\n",
        "\n",
        "<img src=\"https://miro.medium.com/max/800/1*2zYNhLc522h0zftD1zDh2g.png\" width=\"300\">\n"
      ]
    },
    {
      "cell_type": "markdown",
      "metadata": {
        "id": "5VEB16sQmRJj"
      },
      "source": [
        "### Отбор признаков"
      ]
    },
    {
      "cell_type": "markdown",
      "metadata": {
        "id": "DF8I94o2Vutb"
      },
      "source": [
        "*С некоторой точки зрения, набор используемых признаков тоже можно считать гиперпараметром.*"
      ]
    },
    {
      "cell_type": "markdown",
      "metadata": {
        "id": "kntgxRLZ02z_"
      },
      "source": [
        "Создадим таблицу 200 на 10000 со \"здоровыми\" и \"больными\" пациентами и данными об наличии-отсутствии определенных SNP"
      ]
    },
    {
      "cell_type": "code",
      "metadata": {
        "id": "eZuu54AB1AEm"
      },
      "source": [
        "import numpy as np\n",
        "import pandas as pd"
      ],
      "execution_count": null,
      "outputs": []
    },
    {
      "cell_type": "code",
      "metadata": {
        "id": "sKmtomiZ02OI"
      },
      "source": [
        "snp_count = 10000\n",
        "genes = [f\"Gene{ind}\" for ind in range(snp_count)]\n",
        "healthy = pd.DataFrame(np.random.binomial(1,\n",
        "                                          0.5,\n",
        "                                          size=(100, snp_count) ),\n",
        "                       columns=genes)\n",
        "healthy['State'] = \"H\"\n",
        "diseased = pd.DataFrame(np.random.binomial(1,\n",
        "                                          0.5,\n",
        "                                          size=(100, snp_count)) ,\n",
        "                        columns=genes)\n",
        "diseased['State'] = \"D\"\n",
        "patients = pd.concat([healthy, diseased], axis=0)"
      ],
      "execution_count": null,
      "outputs": []
    },
    {
      "cell_type": "code",
      "metadata": {
        "id": "mcB5yJw017Lp"
      },
      "source": [
        "from scipy.stats import pearsonr"
      ],
      "execution_count": null,
      "outputs": []
    },
    {
      "cell_type": "code",
      "metadata": {
        "id": "cpeLuiXS2INQ"
      },
      "source": [
        "qual = {}\n",
        "for gene in genes:\n",
        "    corr = (pearsonr(patients[gene], patients['State'] == \"H\"))[0]\n",
        "    qual[gene] = abs(corr)"
      ],
      "execution_count": null,
      "outputs": []
    },
    {
      "cell_type": "code",
      "metadata": {
        "id": "lHzTqpcW3HFO"
      },
      "source": [
        "genes = sorted(qual, key=lambda x: -qual[x])[0:10]"
      ],
      "execution_count": null,
      "outputs": []
    },
    {
      "cell_type": "code",
      "metadata": {
        "id": "5lG08hif3Ymv"
      },
      "source": [
        "data_selected = patients[genes]"
      ],
      "execution_count": null,
      "outputs": []
    },
    {
      "cell_type": "code",
      "metadata": {
        "id": "wuItzAN74DRM"
      },
      "source": [
        "from sklearn.model_selection import train_test_split\n",
        "\n",
        "\n",
        "X_train, X_test, Y_train, Y_test = train_test_split(data_selected,\n",
        "                                                    patients['State'])"
      ],
      "execution_count": null,
      "outputs": []
    },
    {
      "cell_type": "code",
      "metadata": {
        "id": "Eel1Vc_Y4flI"
      },
      "source": [
        "from sklearn.linear_model import LogisticRegression"
      ],
      "execution_count": null,
      "outputs": []
    },
    {
      "cell_type": "code",
      "metadata": {
        "id": "mhBnvO6F4lUD",
        "colab": {
          "base_uri": "https://localhost:8080/"
        },
        "outputId": "37872441-0256-4479-ce81-c794382beb3b"
      },
      "source": [
        "model = LogisticRegression()\n",
        "model.fit(X_train, Y_train)"
      ],
      "execution_count": null,
      "outputs": [
        {
          "output_type": "execute_result",
          "data": {
            "text/plain": [
              "LogisticRegression()"
            ]
          },
          "metadata": {},
          "execution_count": 63
        }
      ]
    },
    {
      "cell_type": "code",
      "metadata": {
        "id": "fpn1sWNh4ryg"
      },
      "source": [
        "y_pred = model.predict(X_test)"
      ],
      "execution_count": null,
      "outputs": []
    },
    {
      "cell_type": "code",
      "metadata": {
        "id": "0ucJvO6J5GGh",
        "colab": {
          "base_uri": "https://localhost:8080/"
        },
        "outputId": "302472ba-a9ac-46b7-f8a6-474ef6da8d1b"
      },
      "source": [
        "(y_pred == Y_test).mean()"
      ],
      "execution_count": null,
      "outputs": [
        {
          "output_type": "execute_result",
          "data": {
            "text/plain": [
              "0.72"
            ]
          },
          "metadata": {},
          "execution_count": 65
        }
      ]
    },
    {
      "cell_type": "markdown",
      "metadata": {
        "id": "PuHdoIN75P9m"
      },
      "source": [
        "Данные были РАНДОМНЫЕ. А получился отличный результат"
      ]
    },
    {
      "cell_type": "markdown",
      "metadata": {
        "id": "ItZSZxHVVxdz"
      },
      "source": [
        "## Разбиение данных"
      ]
    },
    {
      "cell_type": "markdown",
      "metadata": {
        "id": "h3REb8EuVzIL"
      },
      "source": [
        "Помните, как примерно выглядит пайплайн в машинном обучении?"
      ]
    },
    {
      "cell_type": "markdown",
      "metadata": {
        "id": "nY0n4ht8V0fC"
      },
      "source": [
        "\n",
        "<img src=\"https://kodomo.fbb.msu.ru/FBB/year_21/pub_ml_scheme.png\" width=\"400\">"
      ]
    },
    {
      "cell_type": "markdown",
      "metadata": {
        "id": "iA86UiHRV2Eb"
      },
      "source": [
        "<b>Во время процесса получения оптимальной модели встаёт множество вопросов:</b>\n",
        "\n",
        "* Какие значения гиперпараметров оптимальные?\n",
        "* Какой набор признаков позволяет достичь наибольшего качества?\n",
        "* Как корректно сравнивать разные обученные модели между собой?\n",
        "* Как, в конце концов, оценить обобщающую способность модели?"
      ]
    },
    {
      "cell_type": "markdown",
      "metadata": {
        "id": "zif4IKv1V4jl"
      },
      "source": [
        "Для получения корректных ответов на все эти вопросы сначала необходимо построить правильную схему разбиения данных."
      ]
    },
    {
      "cell_type": "markdown",
      "metadata": {
        "id": "JFj_sm4NsVub"
      },
      "source": [
        "### Все - train\n",
        "\n",
        "> Дайте мне 4 параметра - и я нарисуя слона. 5 - и он будет вилять хоботом\n",
        "\n",
        "[Источник](https://fermatslibrary.com/s/drawing-an-elephant-with-four-complex-parameters)\n",
        "\n",
        "\n",
        "<img src=\"https://kodomo.fbb.msu.ru/FBB/year_21/elephant_45.png\" width=\"400\">\n"
      ]
    },
    {
      "cell_type": "markdown",
      "metadata": {
        "id": "qosfSZeYV6L4"
      },
      "source": [
        "### Train-test split\n",
        "\n",
        "<img src=\"https://conlanscientific.com/media/content/splitting-data.png\" width=\"500\">"
      ]
    },
    {
      "cell_type": "markdown",
      "metadata": {
        "id": "A_oZV1uUp50y"
      },
      "source": [
        "### ~~Тест~~\n",
        "\n",
        "<img src=\"http://img10.joyreactor.cc/pics/comment/anon-3009343.jpeg\" width=\"500px\">"
      ]
    },
    {
      "cell_type": "markdown",
      "metadata": {
        "id": "o71TnjCmqjWP"
      },
      "source": [
        "\n",
        "<img src=\"https://kodomo.fbb.msu.ru/FBB/year_21/ml_scheme_stat.png\" width=\"500px\">"
      ]
    },
    {
      "cell_type": "markdown",
      "metadata": {
        "id": "1S_5HdaPq81K"
      },
      "source": [
        ">Тестовая выборка - всего лишь символ. Это люди дают символам силу."
      ]
    },
    {
      "cell_type": "markdown",
      "metadata": {
        "id": "iSnVnIYmq54q"
      },
      "source": [
        "Делать такое разбиение нужно так, чтобы тестовые данные имитировали \"новые\" данные, и на них мы бы оценили обобщающую способность итоговой модели. <b>Тестовый набор данных используется всего один раз!</b><br>"
      ]
    },
    {
      "cell_type": "markdown",
      "metadata": {
        "id": "09Kl0r9fWDxa"
      },
      "source": [
        "### Почему нельзя сделать трейн-тест сплит и подбирать гиперпараметры на тесте?"
      ]
    },
    {
      "cell_type": "markdown",
      "metadata": {
        "id": "KkJ_wv3YWF9s"
      },
      "source": [
        "В таком сценарии происходит переобучение на тестовый датасет, и он по сути превращается в тренировочный для гиперпараметров."
      ]
    },
    {
      "cell_type": "markdown",
      "metadata": {
        "id": "iz6rTkAAWH78"
      },
      "source": [
        "Представим себе, что у нас есть 10000 моделей, полученных подкручиванием разных гиперпараметров. Представим, что все эти модели не работают, т.е. представляют из себя случайное угадывание."
      ]
    },
    {
      "cell_type": "code",
      "metadata": {
        "id": "TD7n_2YJTilU"
      },
      "source": [
        "from sklearn.metrics import accuracy_score\n",
        "import numpy as np\n",
        "import warnings\n",
        "\n",
        "\n",
        "warnings.filterwarnings('ignore')\n",
        "\n",
        "\n",
        "def guess_model(y_real):\n",
        "    guessed = np.random.choice([True, False],\n",
        "                               size=y_real.shape[0],\n",
        "                               replace=True)\n",
        "    y_predicted = np.zeros_like(y_real)\n",
        "    y_predicted[guessed] = y_real[guessed]\n",
        "    y_predicted[~guessed] = 1 - y_real[~guessed]\n",
        "    return y_predicted"
      ],
      "execution_count": null,
      "outputs": []
    },
    {
      "cell_type": "code",
      "metadata": {
        "id": "kYEzMf-BWLPC",
        "colab": {
          "base_uri": "https://localhost:8080/"
        },
        "outputId": "e09f7a0b-a132-403b-9176-f3b97ed4c57a"
      },
      "source": [
        "models_num = 10000\n",
        "best_quality = 0.5\n",
        "y_real = np.random.choice([0,1], size=250, replace=True)\n",
        "\n",
        "for i in range(models_num):\n",
        "    y_pred = guess_model(y_real)\n",
        "    q = accuracy_score(y_pred=y_pred, y_true=y_real)\n",
        "    if q > best_quality:\n",
        "        best_quality = q\n",
        "print(best_quality)"
      ],
      "execution_count": null,
      "outputs": [
        {
          "output_type": "stream",
          "name": "stdout",
          "text": [
            "0.616\n"
          ]
        }
      ]
    },
    {
      "cell_type": "markdown",
      "metadata": {
        "id": "QNvy3x27WNLu"
      },
      "source": [
        "Путём подкручивания гиперпараметров на тесте можно получить какой-то мнимый результат, когда модель не рабочая."
      ]
    },
    {
      "cell_type": "markdown",
      "metadata": {
        "id": "q7xx6gcWr9Oh"
      },
      "source": [
        "#### Следствие\n",
        "\n",
        "Если много людей мучают один и тот же датасет - то что-нибудь получится"
      ]
    },
    {
      "cell_type": "markdown",
      "metadata": {
        "id": "uTTL-cibr7qR"
      },
      "source": [
        "> Тестовая выборка - всего лишь символ. Это люди дают символам силу. Если людей достаточно, то можно получить на тестовой выборке любой результат.  "
      ]
    },
    {
      "cell_type": "markdown",
      "metadata": {
        "id": "NUVbLLi5sCSN"
      },
      "source": [
        "Решение - проведение конкурсов на принципиально новых данных. Например, [CASP](https://predictioncenter.org/)"
      ]
    },
    {
      "cell_type": "markdown",
      "metadata": {
        "id": "B3cGF_7NWOlC"
      },
      "source": [
        "### Важнейшие моменты любого разбиения данных\n",
        "* Нужно ли перемешивание данных (а то вдруг они в исходном датасете отсортированы)?\n",
        "* Стратификация (сохранение соотношения классов или диапазона значений целевой переменной);\n",
        "* Избегание \"утечек\" данных (data leakage)."
      ]
    },
    {
      "cell_type": "markdown",
      "metadata": {
        "id": "mJocVILEXWZo"
      },
      "source": [
        "## Holdout Validation (проверка на отложенной выборке)"
      ]
    },
    {
      "cell_type": "markdown",
      "metadata": {
        "id": "5hxa1ULOXw-b"
      },
      "source": [
        "Просто разбиваем не на 2, а на 3 датасета"
      ]
    },
    {
      "cell_type": "markdown",
      "metadata": {
        "id": "4ynYbx3iXbNo"
      },
      "source": [
        "![holdout](https://datavedas.com/wp-content/uploads/2018/04/image003.jpg)"
      ]
    },
    {
      "cell_type": "code",
      "metadata": {
        "id": "Ij9_975DX2B4"
      },
      "source": [
        "from sklearn.datasets import load_breast_cancer\n",
        "from sklearn.model_selection import train_test_split\n",
        "from sklearn.svm import SVC\n",
        "from sklearn.neighbors import KNeighborsClassifier\n",
        "from sklearn.metrics import roc_auc_score\n",
        "from matplotlib import pyplot as plt\n",
        "from sklearn.preprocessing import StandardScaler\n",
        "\n",
        "breast_cancer = load_breast_cancer()\n",
        "X = breast_cancer.data\n",
        "y = breast_cancer.target\n",
        "del breast_cancer\n",
        "\n",
        "X_train, X_test, y_train, y_test = train_test_split(X, y,\n",
        "                                                    test_size=0.2,\n",
        "                                                    random_state=100,\n",
        "                                                    stratify=y)\n",
        "X_train, X_val, y_train, y_val = train_test_split(X_train, y_train,\n",
        "                                                  test_size=0.3,\n",
        "                                                  random_state=203,\n",
        "                                                  stratify=y_train)\n",
        "scaler = StandardScaler().fit(X_train)\n",
        "X_train = scaler.transform(X_train)\n",
        "X_val = scaler.transform(X_val)\n",
        "X_test = scaler.transform(X_test)\n",
        "\n",
        "knn_train_auroc = []\n",
        "knn_val_auroc = []\n",
        "sc_train_auroc = []\n",
        "sc_val_auroc = []\n",
        "\n",
        "neighbors = np.arange(1, 51, 1)\n",
        "for knei in neighbors:\n",
        "    knn = KNeighborsClassifier(n_neighbors=knei)\n",
        "    knn.fit(X_train, y_train)\n",
        "    tr_au = roc_auc_score(y_train, y_score=knn.predict_proba(X_train)[:, 1])\n",
        "    knn_train_auroc.append(tr_au)\n",
        "    val_au = roc_auc_score(y_val, y_score=knn.predict_proba(X_val)[:, 1])\n",
        "    knn_val_auroc.append(val_au)\n",
        "\n",
        "regularization = np.arange(0.001, 10, 0.5)\n",
        "for C in regularization:\n",
        "    sc = SVC(random_state=1, C=C, probability=True)\n",
        "    sc.fit(X_train, y_train)\n",
        "    tr_au = roc_auc_score(y_train, y_score=sc.predict_proba(X_train)[:, 1])\n",
        "    sc_train_auroc.append(tr_au)\n",
        "    val_au = roc_auc_score(y_val, y_score=sc.predict_proba(X_val)[:, 1])\n",
        "    sc_val_auroc.append(val_au)"
      ],
      "execution_count": null,
      "outputs": []
    },
    {
      "cell_type": "code",
      "metadata": {
        "id": "7jK-dkc9WO7j",
        "colab": {
          "base_uri": "https://localhost:8080/",
          "height": 441
        },
        "outputId": "3bc24e16-1c1b-40f7-d4d7-a965194ae76b"
      },
      "source": [
        "with plt.style.context(('ggplot')):\n",
        "    fig, (ax1, ax2) = plt.subplots(1, 2, figsize=(14, 6), sharey=True)\n",
        "    ax1.set_title('k-Nearest Neighbours', size=22)\n",
        "    ax1.set_ylabel(\"AUROC\", size=20)\n",
        "    ax1.set_xlabel(\"Number of Neighbours\", size=20)\n",
        "    ax1.set_xticks(neighbors[::3])\n",
        "    ax1.plot(neighbors, knn_train_auroc, c=\"b\", label=\"Train\")\n",
        "    ax1.plot(neighbors, knn_val_auroc, c=\"r\", label=\"Validation\")\n",
        "    ax1.legend()\n",
        "    ax2.set_title('SVC with regularizarion', size=22)\n",
        "    ax2.set_xlabel('Regularization', size=20)\n",
        "    ax2.set_xticks(regularization[::7])\n",
        "    ax2.plot(regularization, sc_train_auroc, c='b', label='Train')\n",
        "    ax2.plot(regularization, sc_val_auroc, c='r', label='Validation')\n",
        "    fig.tight_layout()"
      ],
      "execution_count": null,
      "outputs": [
        {
          "output_type": "display_data",
          "data": {
            "image/png": "[encoded data removed]",
            "text/plain": [
              "<Figure size 1008x432 with 2 Axes>"
            ]
          },
          "metadata": {}
        }
      ]
    },
    {
      "cell_type": "code",
      "metadata": {
        "id": "2Y-wSrIBX60K",
        "colab": {
          "base_uri": "https://localhost:8080/"
        },
        "outputId": "2734e351-27f2-4ffc-ce1f-d7eab67d257a"
      },
      "source": [
        "max(knn_val_auroc), max(sc_val_auroc)"
      ],
      "execution_count": null,
      "outputs": [
        {
          "output_type": "execute_result",
          "data": {
            "text/plain": [
              "(0.9965800273597811, 0.9954400364797081)"
            ]
          },
          "metadata": {},
          "execution_count": 46
        }
      ]
    },
    {
      "cell_type": "code",
      "metadata": {
        "id": "hR6rNzbpYDbs",
        "colab": {
          "base_uri": "https://localhost:8080/"
        },
        "outputId": "18b4e886-5297-48db-8582-0bb44603ab3e"
      },
      "source": [
        "neighbors[np.argmax(knn_val_auroc)]"
      ],
      "execution_count": null,
      "outputs": [
        {
          "output_type": "execute_result",
          "data": {
            "text/plain": [
              "8"
            ]
          },
          "metadata": {},
          "execution_count": 47
        }
      ]
    },
    {
      "cell_type": "code",
      "metadata": {
        "id": "jPAVOGq8YEog",
        "colab": {
          "base_uri": "https://localhost:8080/"
        },
        "outputId": "a9d40ee8-3a1f-467e-bd9f-440326c7090d"
      },
      "source": [
        "regularization[np.argmax(sc_val_auroc)]"
      ],
      "execution_count": null,
      "outputs": [
        {
          "output_type": "execute_result",
          "data": {
            "text/plain": [
              "2.001"
            ]
          },
          "metadata": {},
          "execution_count": 48
        }
      ]
    },
    {
      "cell_type": "code",
      "metadata": {
        "id": "Wjlw3zXyYF7G",
        "colab": {
          "base_uri": "https://localhost:8080/"
        },
        "outputId": "696aeb0e-91d3-4e44-b12b-1c15da9c7e22"
      },
      "source": [
        "# Final evaluation\n",
        "\n",
        "knn = KNeighborsClassifier(n_neighbors=8)\n",
        "knn.fit(X_train, y_train)\n",
        "y_score=knn.predict_proba(X_test)[:, 1]\n",
        "\n",
        "roc_auc_score(y_test, y_score)"
      ],
      "execution_count": null,
      "outputs": [
        {
          "output_type": "execute_result",
          "data": {
            "text/plain": [
              "0.9899140211640212"
            ]
          },
          "metadata": {},
          "execution_count": 49
        }
      ]
    },
    {
      "cell_type": "markdown",
      "metadata": {
        "id": "CnWD9AEuYI09"
      },
      "source": [
        "### Плюсы\n",
        "\n",
        "* Ура, получили какую-то оценку. Для больших датасетов хватает и этого подхода для получения оценки алгоритма"
      ]
    },
    {
      "cell_type": "markdown",
      "metadata": {
        "id": "n6pc1MFwYPa8"
      },
      "source": [
        "### Минусы\n",
        "\n",
        "* Точечная оценка, причём чем меньше примеров в валидационном наборе, тем выше\n",
        "дисперсия;\n",
        "* Снижение размера данных, которые попадают в модель при обучении."
      ]
    },
    {
      "cell_type": "markdown",
      "metadata": {
        "id": "I-2ncWMiYVUO"
      },
      "source": [
        "## Monte-Carlo cross-validation"
      ]
    },
    {
      "cell_type": "markdown",
      "metadata": {
        "id": "SpNLRk_MYXuS"
      },
      "source": [
        "Повторение процедуры holdout несколько раз. Есть варианты, когда на каждой итерации варьируется размер валидационной выборки.\n",
        "\n",
        "## поправить test на валидацию\n",
        "\n",
        "<img src=\"https://kodomo.fbb.msu.ru/FBB/year_21/montecarlo_val.png\" width=\"500\">"
      ]
    },
    {
      "cell_type": "markdown",
      "metadata": {
        "id": "F1lFmLIOYutt"
      },
      "source": [
        "Можно использовать <a href='https://scikit-learn.org/stable/modules/generated/sklearn.model_selection.ShuffleSplit.html'>ShuffleSplit</a> и <a href='https://scikit-learn.org/stable/modules/generated/sklearn.model_selection.StratifiedShuffleSplit.html'>StratifiedShuffleSplit</a> из sklearn.model_selection, можно наколхозить.<br>\n",
        "Если нарушается i.i.d., то существует <a href='https://scikit-learn.org/stable/modules/generated/sklearn.model_selection.GroupShuffleSplit.html'>GroupShuffleSplit</a>."
      ]
    },
    {
      "cell_type": "markdown",
      "metadata": {
        "id": "RCMmGVMqYwUG"
      },
      "source": [
        "<b>Учтите!</b><br>\n",
        "Здесь и дальше манипуляции с признаками (шкалирование и пр.) надо производить внутри цикла. Нормализация (и другие сходные операции) по всему датасету приведёт к переобучению (вы показываете модели больший кусок распределения, чем есть в обучающей выборке)."
      ]
    },
    {
      "cell_type": "code",
      "metadata": {
        "id": "Wg4U5PlOYx8f"
      },
      "source": [
        "def get_monte_carlo_cv_scores(X, y, clf, n_samples,\n",
        "                              test_size='random', random_state=12345):\n",
        "    rng = np.random.RandomState(seed=random_state)\n",
        "    seeds = np.arange(10**5)\n",
        "    rng.shuffle(seeds)\n",
        "    seeds = seeds[:n_samples]\n",
        "    auroc_mccv = []\n",
        "    if test_size == 'random':\n",
        "        sizes = rng.choice(np.linspace(0.05, 0.5, 46),\n",
        "                           size=n_samples, replace=True)\n",
        "        for i, size in zip(seeds, sizes):\n",
        "            X_train, X_val, y_train, y_val = train_test_split(X, y,\n",
        "                                                              test_size=size,\n",
        "                                                              random_state=i,\n",
        "                                                              stratify=y)\n",
        "            scaler = StandardScaler().fit(X_train)\n",
        "            X_train = scaler.transform(X_train)\n",
        "            X_val = scaler.transform(X_val)\n",
        "            y_score = clf.fit(X_train, y_train).predict_proba(X_val)[:, 1]\n",
        "            auroc = roc_auc_score(y_true=y_val, y_score=y_score)\n",
        "            auroc_mccv.append(auroc)\n",
        "    elif isinstance(test_size, float):\n",
        "        for i in seeds:\n",
        "            X_train, X_val, y_train, y_val = train_test_split(X, y,\n",
        "                                                              test_size=test_size,\n",
        "                                                              random_state=i,\n",
        "                                                              stratify=y)\n",
        "            scaler = StandardScaler().fit(X_train)\n",
        "            X_train = scaler.transform(X_train)\n",
        "            X_val = scaler.transform(X_val)\n",
        "            y_score = clf.fit(X_train, y_train).predict_proba(X_val)[:, 1]\n",
        "            auroc = roc_auc_score(y_true=y_val, y_score=y_score)\n",
        "            auroc_mccv.append(auroc)\n",
        "    else:\n",
        "        return 'Wrong test_size type. Must be string (\"random\") or float'\n",
        "    return np.array(auroc_mccv)"
      ],
      "execution_count": null,
      "outputs": []
    },
    {
      "cell_type": "code",
      "metadata": {
        "id": "-sCIqc5_Y0Y_"
      },
      "source": [
        "def plot_mccv_results(auroc, title):\n",
        "    with plt.style.context(('ggplot')):\n",
        "        plt.figure(figsize=(12, 6))\n",
        "        plt.title(title, size=22)\n",
        "        plt.bar(range(0, auroc.shape[0]), auroc, color='gray', alpha=0.7)\n",
        "        plt.axhline(auroc.max(), color='k', linewidth=1, linestyle='--')\n",
        "        plt.axhline(auroc.min(), color='k', linewidth=1, linestyle='--')\n",
        "        plt.axhspan(auroc.min(), auroc.max(), alpha=0.2, color='steelblue')\n",
        "        plt.ylim([0, auroc.max() + 0.1])\n",
        "        plt.xlabel('Repetition')\n",
        "        plt.ylabel('AUROC')\n",
        "        plt.ylim([0.5, 1.0])\n",
        "        plt.tight_layout()\n",
        "        plt.show()"
      ],
      "execution_count": null,
      "outputs": []
    },
    {
      "cell_type": "code",
      "metadata": {
        "id": "2dljLITkY2oe"
      },
      "source": [
        "X_train, X_test, y_train, y_test = train_test_split(X, y,\n",
        "                                                    test_size=0.2,\n",
        "                                                    random_state=100,\n",
        "                                                    stratify=y)\n",
        "\n",
        "clf = KNeighborsClassifier(n_neighbors=2, n_jobs=-1)\n",
        "\n",
        "auroc_mccv_50 = get_monte_carlo_cv_scores(X_train, y_train, clf, 100, .5)\n",
        "auroc_mccv_10 = get_monte_carlo_cv_scores(X_train, y_train, clf, 100, .1)\n",
        "auroc_mccv_random = get_monte_carlo_cv_scores(X_train, y_train, clf, 100)"
      ],
      "execution_count": null,
      "outputs": []
    },
    {
      "cell_type": "code",
      "metadata": {
        "id": "P2G-wrV6Y90q",
        "colab": {
          "base_uri": "https://localhost:8080/"
        },
        "outputId": "0f962fe8-961f-4aa6-f57d-eff6fc8ff212"
      },
      "source": [
        "auroc_mccv_50.mean(), auroc_mccv_10.mean(), auroc_mccv_random.mean()"
      ],
      "execution_count": null,
      "outputs": [
        {
          "output_type": "execute_result",
          "data": {
            "text/plain": [
              "(0.969702591526121, 0.973367139959432, 0.9717028934358618)"
            ]
          },
          "metadata": {},
          "execution_count": 53
        }
      ]
    },
    {
      "cell_type": "code",
      "metadata": {
        "id": "QgZ4yBJNZC6I",
        "colab": {
          "base_uri": "https://localhost:8080/",
          "height": 441
        },
        "outputId": "8d9cb42c-3802-4e47-ffe3-0e8e6424cbe7"
      },
      "source": [
        "plot_mccv_results(auroc_mccv_50, 'Monte-Carlo CV, test size 50%')"
      ],
      "execution_count": null,
      "outputs": [
        {
          "output_type": "display_data",
          "data": {
            "image/png": "[encoded data removed]",
            "text/plain": [
              "<Figure size 864x432 with 1 Axes>"
            ]
          },
          "metadata": {}
        }
      ]
    },
    {
      "cell_type": "code",
      "metadata": {
        "id": "Le9u62kJZGmq",
        "colab": {
          "base_uri": "https://localhost:8080/",
          "height": 441
        },
        "outputId": "e27c2bc0-55d6-4bc4-a92c-7effe80331ac"
      },
      "source": [
        "plot_mccv_results(auroc_mccv_10, 'Monte-Carlo CV, test size 10%')"
      ],
      "execution_count": null,
      "outputs": [
        {
          "output_type": "display_data",
          "data": {
            "image/png": "[encoded data removed]",
            "text/plain": [
              "<Figure size 864x432 with 1 Axes>"
            ]
          },
          "metadata": {}
        }
      ]
    },
    {
      "cell_type": "markdown",
      "metadata": {
        "id": "HqM0k8YhZaAQ"
      },
      "source": [
        "### Плюсы\n",
        "\n",
        "* Получаем массив оценок, можно оценить дисперсию оценки, строить интервалы, применять статтесты и пр.;\n",
        "* Более гибкая схема валидации, можно придумать свои модификации этого метода (например, зашумлять объекты - аугментация данных)."
      ]
    },
    {
      "cell_type": "markdown",
      "metadata": {
        "id": "oGlVANmyZfro"
      },
      "source": [
        "### Минусы\n",
        "\n",
        "* Нет гарантии, что каждый объект попадёт в обучение;\n",
        "* Надо обучать алгоритм много раз, может быть трудоёмко по времени."
      ]
    },
    {
      "cell_type": "markdown",
      "metadata": {
        "id": "PKE7-75KaCAh"
      },
      "source": [
        "## K-Fold cross-validation"
      ]
    },
    {
      "cell_type": "markdown",
      "metadata": {
        "id": "oFW64L2aaHLx"
      },
      "source": [
        "В общем виде выглядит вот так:"
      ]
    },
    {
      "cell_type": "markdown",
      "metadata": {
        "id": "JZt2YXypaE66"
      },
      "source": [
        "![cv-scheme](https://scikit-learn.org/stable/_images/grid_search_cross_validation.png)"
      ]
    },
    {
      "cell_type": "markdown",
      "metadata": {
        "id": "MboLgGGBaKbO"
      },
      "source": [
        "Крайние примеры - leave-one-out (LOO, n разбиений, в тестовую выборку попадает по одному объекту) и 2-fold (два разбиения 50/50).\n"
      ]
    },
    {
      "cell_type": "markdown",
      "metadata": {
        "id": "FhUExC2iaOGi"
      },
      "source": [
        "В sklearn.model_selection реализованы многие модификации метода:\n",
        "\n",
        "* <a href='https://scikit-learn.org/stable/modules/generated/sklearn.model_selection.KFold.html'>KFold</a> - классическая схема;\n",
        "* <a href='https://scikit-learn.org/stable/modules/generated/sklearn.model_selection.StratifiedKFold.html'>StratifiedKFold</a> - k разбиений со стратификацией по меткам классов;\n",
        "* <a href='https://scikit-learn.org/stable/modules/generated/sklearn.model_selection.GroupKFold.html'>GroupKFold</a> - k блоков с учётом групп для задач с нарушением i.i.d. (наличием multiple sources);\n",
        "* <a href='https://scikit-learn.org/stable/modules/generated/sklearn.model_selection.LeaveOneOut.html'>LeaveOneOut</a> - классический LOO;\n",
        "* <a href='https://scikit-learn.org/stable/modules/generated/sklearn.model_selection.LeavePOut.html'>LeavePOut</a> - в тест попадают все возможные наборы из p объектов (всего $C_n^p$)\n",
        "* <a href='https://scikit-learn.org/stable/modules/generated/sklearn.model_selection.LeaveOneGroupOut.html'>LeaveOneGroupOut</a> - LOO для multiple sources;\n",
        "* <a href='https://scikit-learn.org/stable/modules/generated/sklearn.model_selection.LeavePGroupsOut.html'>LeavePGroupsOut</a> - LPO для mutiple sources.\n",
        "* некоторые другие."
      ]
    },
    {
      "cell_type": "code",
      "metadata": {
        "id": "83HN-ztWaR0K"
      },
      "source": [
        "from sklearn.model_selection import StratifiedKFold\n",
        "\n",
        "X_train, X_test, y_train, y_test = train_test_split(X, y, test_size=0.2,\n",
        "                                                    random_state=100, stratify=y)\n",
        "\n",
        "clf = LogisticRegression(random_state=1)\n",
        "skf_scores = []\n",
        "cv = StratifiedKFold(n_splits=5, shuffle=True, random_state=1)\n",
        "for train_index, test_index in cv.split(X_train, y_train):\n",
        "    X_train_, y_train_ = X_train[train_index], y_train[train_index]\n",
        "    X_val, y_val = X_train[test_index], y_train[test_index]\n",
        "    scaler = StandardScaler().fit(X_train_)\n",
        "    X_train_ = scaler.transform(X_train_)\n",
        "    X_val = scaler.transform(X_val)\n",
        "    clf.fit(X_train_, y_train_)\n",
        "    pred = clf.predict_proba(X_val)[:, 1]\n",
        "    skf_scores.append(roc_auc_score(y_val, pred))\n",
        "skf_scores = np.array(skf_scores)"
      ],
      "execution_count": null,
      "outputs": []
    },
    {
      "cell_type": "code",
      "metadata": {
        "id": "O8Tl1VRNaS-H",
        "colab": {
          "base_uri": "https://localhost:8080/"
        },
        "outputId": "0bf84864-4286-4fb0-9af7-f56c1d4c9a5f"
      },
      "source": [
        "skf_scores.mean(), skf_scores.std()"
      ],
      "execution_count": null,
      "outputs": [
        {
          "output_type": "execute_result",
          "data": {
            "text/plain": [
              "(0.9922600619195047, 0.007355430208959968)"
            ]
          },
          "metadata": {},
          "execution_count": 57
        }
      ]
    },
    {
      "cell_type": "markdown",
      "metadata": {
        "id": "0Il3UkhpaUvL"
      },
      "source": [
        "### Плюсы\n",
        "* Гарантия попадания каждого объекта и в трейн, и в тест;\n",
        "* Получаем массив оценок;\n",
        "* Гибкость."
      ]
    },
    {
      "cell_type": "markdown",
      "metadata": {
        "id": "U5-eFgldabe4"
      },
      "source": [
        "### Минусы\n",
        "\n",
        "* Непонятно, сколько блоков брать (чаще всего - 5 или 10, но очень зависит от данных и задачи);\n",
        "* Опять надо обучаться много раз (в случае LPO - очень много), может быть трудоёмко по времени;\n",
        "* В случае LOO - высокая дисперсия оценки, невозможность подсчитать некоторые метрики (тот же AUROC). Часть метрик для большого числа объектов можно высчитать аналитически - валидация фактически не работает"
      ]
    },
    {
      "cell_type": "markdown",
      "metadata": {
        "id": "PJrPnWgkaxqu"
      },
      "source": [
        "## Кросс-валидация для временных рядов\n",
        "\n",
        "\n",
        "![alttext](https://miro.medium.com/max/1204/1*qvdnPF8ETV9mFdMT0Y_BBA.png)\n",
        "\n",
        "![alttext](https://miro.medium.com/max/1210/1*QJaeOqGfe_vKbpmT882APA.png)"
      ]
    },
    {
      "cell_type": "markdown",
      "metadata": {
        "id": "Va2JjiGoJ0pp"
      },
      "source": [
        "## Кросс-валидация для биологических данных\n",
        "\n",
        "Более того - **учитывайте**, что правильное разбиение важно не только при делении трайн-тест, но и при кросс-валидации, которую мы разберем далее\n",
        "\n",
        "\n",
        "Иначе ваша валидация будет кросс-валидация бесмысленна - данные текут, выбирается модель, которая лучше всего ловит эту утечку, а не так, которая лучше всего генерализует решение"
      ]
    },
    {
      "cell_type": "markdown",
      "metadata": {
        "id": "QIVq-tuRbYQA"
      },
      "source": [
        "# Особенности валидации с биологическими данными"
      ]
    },
    {
      "cell_type": "markdown",
      "metadata": {
        "id": "KlbTLzoudSn-"
      },
      "source": [
        "### Train-test split\n",
        "\n",
        "На прошлых занятиях мы использовали следующую схему разбиения\n",
        "\n",
        "<img src=\"https://conlanscientific.com/media/content/splitting-data.png\" width=\"500\">"
      ]
    },
    {
      "cell_type": "markdown",
      "metadata": {
        "id": "iSO-_8zUdSn-"
      },
      "source": [
        "Оно предполагает, что мы наши данные **независимы**. Нет копий каких-то объектов, нет зашумленных версий каких-то объектов  и т.д.\n",
        "\n",
        "Если это не выполняется - то наша оценка качества модели сильно проседает."
      ]
    },
    {
      "cell_type": "markdown",
      "metadata": {
        "id": "xClyVp-hbl6g"
      },
      "source": [
        "Для биологических данных постоянно нарушается предположение о том, что объекты в выборке, которую мы получили - независимы.\n",
        "\n",
        "\n",
        "\n"
      ]
    },
    {
      "cell_type": "markdown",
      "metadata": {
        "id": "hMkLTIg6LUiM"
      },
      "source": [
        "## Медицинские изображения\n",
        "\n",
        "Проблема с правильной кросс-валидацией [указывается](https://www.technologyreview.com/2021/07/30/1030329/machine-learning-ai-failed-covid-hospital-diagnosis-pandemic/), в числе прочих, и среди причин невозможности применения кучи опубликованных моделей для реальной диагностики ковида.\n",
        "\n",
        "Более того, много статей, к примеру - [из недавних](https://www.nature.com/articles/s42256-021-00307-0) - посвящено тому, как правильно делать исследование на медицинских изображениях. И там упоминается и проблема кроссвалидации.\n",
        "\n",
        "\n",
        "\n",
        "В снимках могут быть фотографии, полученные от одного пациента. Могут быть снимки с одного прибора, окрашенные одним и тем же специфичным способом и т.д.\n",
        "\n",
        "<img src=\"https://kodomo.fbb.msu.ru/FBB/year_21/cross_patient.png\" width=\"500\">\n",
        "\n"
      ]
    },
    {
      "cell_type": "markdown",
      "metadata": {
        "id": "ZkSM2IloR-fU"
      },
      "source": [
        "## Нуклеотидные последовательности и Biasaway\n",
        "\n",
        "Очень часто последовательности, содержащие сигнал и без сигнала отличаются по GC-контенту - относительному содержанию нуклеотидов G и C в последовательности.\n",
        "\n",
        "Особенно этому подвержены ситуации, когда последовательностями без сигнала мы считаем случайным образом взятые последовательности из генома.\n",
        "\n",
        "Большая часть моделей может легко вывести из поданных им на вход признаков GC-контент и классифицировать выборки на его основании.\n",
        "\n"
      ]
    },
    {
      "cell_type": "code",
      "metadata": {
        "id": "uiRedYNrTSXh",
        "colab": {
          "base_uri": "https://localhost:8080/"
        },
        "outputId": "d7a5562f-eb12-4d81-9549-40331b197919"
      },
      "source": [
        "!gdown https://drive.google.com/uc\\?id=1TOpoivIwMHEvWm-MSszd2UaYn42-CJt2 -O negative.fasta.gz\n",
        "!gdown https://drive.google.com/uc\\?id=14ts2nq0U1v2cP73npKJQzsG1OHjE_OhS -O positive.fasta.gz"
      ],
      "execution_count": null,
      "outputs": [
        {
          "output_type": "stream",
          "name": "stdout",
          "text": [
            "Downloading...\n",
            "From: https://drive.google.com/uc?id=1TOpoivIwMHEvWm-MSszd2UaYn42-CJt2\n",
            "To: /content/negative.fasta.gz\n",
            "100% 10.6M/10.6M [00:00<00:00, 21.7MB/s]\n",
            "Access denied with the following error:\n",
            "\n",
            " \tCannot retrieve the public link of the file. You may need to change\n",
            "\tthe permission to 'Anyone with the link', or have had many accesses. \n",
            "\n",
            "You may still be able to access the file from the browser:\n",
            "\n",
            "\t https://drive.google.com/uc?id=14ts2nq0U1v2cP73npKJQzsG1OHjE_OhS \n",
            "\n"
          ]
        }
      ]
    },
    {
      "cell_type": "code",
      "metadata": {
        "id": "fl7bNLFETkmc",
        "colab": {
          "base_uri": "https://localhost:8080/"
        },
        "outputId": "770bee25-b079-4a38-e04a-fd1fb5ceaca1"
      },
      "source": [
        "!pip install pyfastx"
      ],
      "execution_count": null,
      "outputs": [
        {
          "output_type": "stream",
          "name": "stdout",
          "text": [
            "Collecting pyfastx\n",
            "  Downloading pyfastx-0.8.4-cp37-cp37m-manylinux2010_x86_64.whl (879 kB)\n",
            "\u001b[K     |████████████████████████████████| 879 kB 4.4 MB/s \n",
            "\u001b[?25hInstalling collected packages: pyfastx\n",
            "Successfully installed pyfastx-0.8.4\n"
          ]
        }
      ]
    },
    {
      "cell_type": "code",
      "metadata": {
        "id": "YvtGHS6OTplt"
      },
      "source": [
        "import pyfastx"
      ],
      "execution_count": null,
      "outputs": []
    },
    {
      "cell_type": "code",
      "metadata": {
        "id": "SHO2D7F6TsAl",
        "colab": {
          "base_uri": "https://localhost:8080/",
          "height": 234
        },
        "outputId": "2b97dc75-75bb-49c2-cd14-8ce4d6b6e3e5"
      },
      "source": [
        "fa = pyfastx.Fasta('positive.fasta.gz')\n",
        "gc_array_pos = []\n",
        "ind = 0\n",
        "for seq in fa:\n",
        "    ind += 1\n",
        "    gc_array_pos.append(seq.gc_content)\n",
        "    if ind == 10000:\n",
        "        break"
      ],
      "execution_count": null,
      "outputs": [
        {
          "output_type": "error",
          "ename": "FileExistsError",
          "evalue": "ignored",
          "traceback": [
            "\u001b[0;31m---------------------------------------------------------------------------\u001b[0m",
            "\u001b[0;31mFileExistsError\u001b[0m                           Traceback (most recent call last)",
            "\u001b[0;32m<ipython-input-30-2d65dfdacb6c>\u001b[0m in \u001b[0;36m<module>\u001b[0;34m()\u001b[0m\n\u001b[0;32m----> 1\u001b[0;31m \u001b[0mfa\u001b[0m \u001b[0;34m=\u001b[0m \u001b[0mpyfastx\u001b[0m\u001b[0;34m.\u001b[0m\u001b[0mFasta\u001b[0m\u001b[0;34m(\u001b[0m\u001b[0;34m'positive.fasta.gz'\u001b[0m\u001b[0;34m)\u001b[0m\u001b[0;34m\u001b[0m\u001b[0;34m\u001b[0m\u001b[0m\n\u001b[0m\u001b[1;32m      2\u001b[0m \u001b[0mgc_array_pos\u001b[0m \u001b[0;34m=\u001b[0m \u001b[0;34m[\u001b[0m\u001b[0;34m]\u001b[0m\u001b[0;34m\u001b[0m\u001b[0;34m\u001b[0m\u001b[0m\n\u001b[1;32m      3\u001b[0m \u001b[0mind\u001b[0m \u001b[0;34m=\u001b[0m \u001b[0;36m0\u001b[0m\u001b[0;34m\u001b[0m\u001b[0;34m\u001b[0m\u001b[0m\n\u001b[1;32m      4\u001b[0m \u001b[0;32mfor\u001b[0m \u001b[0mseq\u001b[0m \u001b[0;32min\u001b[0m \u001b[0mfa\u001b[0m\u001b[0;34m:\u001b[0m\u001b[0;34m\u001b[0m\u001b[0;34m\u001b[0m\u001b[0m\n\u001b[1;32m      5\u001b[0m     \u001b[0mind\u001b[0m \u001b[0;34m+=\u001b[0m \u001b[0;36m1\u001b[0m\u001b[0;34m\u001b[0m\u001b[0;34m\u001b[0m\u001b[0m\n",
            "\u001b[0;31mFileExistsError\u001b[0m: the input fasta file positive.fasta.gz does not exists"
          ]
        }
      ]
    },
    {
      "cell_type": "code",
      "metadata": {
        "id": "kYi94Op_TuZx"
      },
      "source": [
        "fa = pyfastx.Fasta('negative.fasta.gz')\n",
        "gc_array_neg = []\n",
        "ind = 0\n",
        "for seq in fa:\n",
        "    gc_array_neg.append(seq.gc_content)\n",
        "    ind += 1\n",
        "    if ind == 10000:\n",
        "        break"
      ],
      "execution_count": null,
      "outputs": []
    },
    {
      "cell_type": "code",
      "metadata": {
        "id": "QOgxSNBlTwVs"
      },
      "source": [
        "plt.hist(gc_array_pos, label=\"positive\", density=True, alpha=0.5)\n",
        "plt.hist(gc_array_neg, label=\"negative\", density=True, alpha=0.5)\n",
        "plt.legend()\n",
        "plt.show()"
      ],
      "execution_count": null,
      "outputs": []
    },
    {
      "cell_type": "markdown",
      "metadata": {
        "id": "uKaX06mwSuPR"
      },
      "source": [
        "Для борьбы с этим (и похожими проблемами) существует программа [BiasAway](https://biasaway.uio.no/), которая пытается выбрать последовательности из негативной выборки таким образом, чтобы содержание GC между позитивным и негативным классом не отличалось"
      ]
    },
    {
      "cell_type": "markdown",
      "metadata": {
        "id": "ez4ylX9mepMM"
      },
      "source": [
        "## Cross-chromosome и cross-cell validation\n",
        "\n"
      ]
    },
    {
      "cell_type": "markdown",
      "metadata": {
        "id": "oR6HvL58Pb1j"
      },
      "source": [
        "Когда мы делаем предсказания на геномных данных, необходимо быть ОЧЕНЬ внимательным.\n",
        "\n",
        "Многие сигналы, такие как доступность хроматина, опасность мутаций в позиции и т.д обладают выраженной локальностью - по рядом стоящей позиции можно с большой достоверностью предсказать значение в текущей позиции.\n",
        "\n",
        "Некоторые сигналы более-менее сохраняют свое значение на больших участках генома, а модели машинного обучения склонны легко запоминать конкретные последовательности и \"составлять\" внутри себя карту генома.\n"
      ]
    },
    {
      "cell_type": "markdown",
      "metadata": {
        "id": "4DnnLxDiQoOV"
      },
      "source": [
        "Представим себе ситуацию, что у нас есть данные двух клеточных линий для всех хромосом\n",
        "\n",
        "<img src=\"https://kodomo.fbb.msu.ru/FBB/year_21/genome_cross0.png\" width=\"600\">"
      ]
    },
    {
      "cell_type": "markdown",
      "metadata": {
        "id": "khjZcd4WRg1K"
      },
      "source": [
        "Как мы можем разбить наши данные на обучение и тест?"
      ]
    },
    {
      "cell_type": "markdown",
      "metadata": {
        "id": "I8CUXvRARo6q"
      },
      "source": [
        "### Случайное разбиение\n",
        "\n",
        "Не рекомендуется - модель почти наверняка переобучится\n",
        "\n",
        "<img src=\"https://kodomo.fbb.msu.ru/FBB/year_21/genome_cross1.png\" width=\"600\">"
      ]
    },
    {
      "cell_type": "markdown",
      "metadata": {
        "id": "PZBNbMFhRuX1"
      },
      "source": [
        "### Разбиение по клеточным линиям\n",
        "\n",
        "Лучше, но надо сравниваться с предсказанием среднего по линиям, на которых училась модель\n",
        "\n",
        "<img src=\"https://kodomo.fbb.msu.ru/FBB/year_21/genome_cross2.png\" width=\"600\">"
      ]
    },
    {
      "cell_type": "markdown",
      "metadata": {
        "id": "N8DgDljcR1vO"
      },
      "source": [
        "### Разбиение по хромосомам\n",
        "\n",
        "Хороший вариант, ловит почти все проблемы\n",
        "\n",
        "<img src=\"https://kodomo.fbb.msu.ru/FBB/year_21/genome_cross3.png\" width=\"600\">"
      ]
    },
    {
      "cell_type": "markdown",
      "metadata": {
        "id": "MhQ_MvenVX7m"
      },
      "source": [
        "### Разбиение по длинным участкам\n",
        "\n",
        "Можно в обучение брать одни протяженные участки, а в тест - другие.\n",
        "Проблема - можно обмануться с необходимым размером.\n",
        "\n",
        "Достаточно безопасно брать половинки хромосом\n",
        "\n",
        "<img src=\"https://kodomo.fbb.msu.ru/FBB/year_21/genome_cross4.png\" width=\"600\">"
      ]
    },
    {
      "cell_type": "markdown",
      "metadata": {
        "id": "5pIlOqihO89T"
      },
      "source": [
        "### TargetFinder"
      ]
    },
    {
      "cell_type": "markdown",
      "metadata": {
        "id": "7wtTpQhuhRtY"
      },
      "source": [
        "Представим себе следующую задачу:\n",
        "1) дана последовательность энхансера\n",
        "2) дана последовательность промотора\n",
        "3) предсказать, будут ли они взаимодействовать\n",
        "\n",
        "Автор TargetFinder в данной задаче смогли добиться точности порядка 99% процентов. Кажется подозрительным.\n",
        "\n",
        "И в скором времени вышла статья, где было показано, что все качество авторов происходит из-за неправильного разбиения данных.\n",
        "В выборку попадали последовательности из одной и той же хромосомы, более того, один и тот же промотор/энхансер могли быть как в обучении, так и в тесте.\n",
        "\n",
        "Признаки, которые они предложили, позволяли модели легко запоминать конкретные промоторы и энхансеры, понимать, что лежит в окружении того или иного регуляторного участка.\n",
        "\n",
        "Как было показано, что в модели есть проблемы - просто предложили два разбиения - кросс-хромосомное, когда в тест попадали пары промотор-энхансер только с одних хромосом, а в трейн - с других.\n",
        "\n",
        "И второе - где хотя бы гарантировалось, что один и тот же промотор будет либо только в тесте, либо только в обучении.\n",
        "\n",
        "Второе разбиение было более мягким - на нем модель все равно находила \"как переобучиться\". На кросс-хромосомном уровне data leakage убирался полностью.\n",
        "\n",
        "<img src=\"https://kodomo.fbb.msu.ru/FBB/year_20/ml/crosschromosome.png\" width=\"700\">\n"
      ]
    },
    {
      "cell_type": "markdown",
      "metadata": {
        "id": "cPX-cwO5O_sB"
      },
      "source": [
        "### A pitfall for machine learning methods aiming to predict across cell types"
      ]
    },
    {
      "cell_type": "markdown",
      "metadata": {
        "id": "oKDADanbkvC0"
      },
      "source": [
        "Аналогичный эффект был [продемонстрирован](https://genomebiology.biomedcentral.com/articles/10.1186/s13059-020-02177-y) при попытке обучить модель, предсказывающую, какие гены будут значимо экспрессироваться в клеточной линии. \"Лучшим\" предсказанием сигнала для определенной клеточной линии оказывается просто предсказание для данного гена среднего по остальным клеточным линиям.\n",
        "\n",
        "Модель же \"стремится\" к идеалу - чем больше ей дается параметров, тем лучше она запоминает и тем больше ее предсказание становится похоже на среднее"
      ]
    },
    {
      "cell_type": "markdown",
      "metadata": {
        "id": "uK-OkChJhREH"
      },
      "source": [
        "<img src=\"https://kodomo.fbb.msu.ru/FBB/year_20/ml/expression.png\" width=\"700\">"
      ]
    },
    {
      "cell_type": "markdown",
      "metadata": {
        "id": "-yJWpwmUUv1v"
      },
      "source": [
        "### Avocado\n",
        "\n",
        "В [статье](https://genomebiology.biomedcentral.com/articles/10.1186/s13059-020-01977-6) используют неправильные разбиения, что были еще в TargetFinder\n",
        "\n",
        "![alttext](https://media.springernature.com/lw685/springer-static/image/art%3A10.1186%2Fs13059-020-01977-6/MediaObjects/13059_2020_1977_Fig5_HTML.png?as=webp)"
      ]
    },
    {
      "cell_type": "markdown",
      "metadata": {
        "id": "bImUXqY-Pl0T"
      },
      "source": [
        "### CAGI2018\n",
        "\n",
        "Авторы конкурса недооценили размер блоков, на которые надо резать геномные данные (**A**) и в итоге модель уучила не признаки, важные для предсказания эффекта мутации, а призниак, важные для предсказания, какой объект из обучающей выборки был ближе **по геному**.\n",
        "\n",
        "Соответственно, при правильных разбиениях большая часть моделей [показывали](https://www.frontiersin.org/articles/10.3389/fgene.2019.01078/full) куда меньшее качество и были не переносимы на реальные данные, где все последовательности относятся к тем, которые модели не видели\n",
        "\n",
        "<img src=\"https://www.frontiersin.org/files/Articles/485085/fgene-10-01078-HTML/image_m/fgene-10-01078-g001.jpg\" width=\"600\">"
      ]
    },
    {
      "cell_type": "markdown",
      "metadata": {
        "id": "oKvHooYsXDM1"
      },
      "source": [
        "В результате, даже модель, обученная на абсолютно случайных признаках, показывала качество лучше многих конкурсных решений\n",
        "\n",
        "<img src=\"https://kodomo.fbb.msu.ru/FBB/year_21/cagi2018_fakesig.png\" width=\"500\">"
      ]
    },
    {
      "cell_type": "markdown",
      "metadata": {
        "id": "taNFPrQ-lOZQ"
      },
      "source": [
        "## Разбиение химических веществ"
      ]
    },
    {
      "cell_type": "markdown",
      "metadata": {
        "id": "cY9EgAgCZ9A8"
      },
      "source": [
        "### Разные разбиения - разные результаты"
      ]
    },
    {
      "cell_type": "markdown",
      "metadata": {
        "id": "ZdODwjtXmMrC"
      },
      "source": [
        "Аналогичная проблема может возникнуть и при разбиении химических веществ.\n",
        "\n",
        "Допустим, что вы хотите предсказывать связывание белка с веществом\n",
        "\n",
        "В [статье](https://arxiv.org/abs/1703.10603) приводят пример, что в зависимости от того, как разбить комплексы белков с веществами на обучение и тест, оценка качества может меняться очень разными путями.\n",
        "\n",
        "<img src=\"https://kodomo.fbb.msu.ru/FBB/year_20/ml/chemsplit.png\" width=\"700\">"
      ]
    },
    {
      "cell_type": "markdown",
      "metadata": {
        "id": "E1gUeJDuaBKy"
      },
      "source": [
        "### Датасеты могут быть разные по качеству"
      ]
    },
    {
      "cell_type": "markdown",
      "metadata": {
        "id": "2BcrtNQ7nNta"
      },
      "source": [
        "Бывают хорошие датасеты, где для каждого белка известны как ингибиторы, так и вещества ими неявляющимися. И для каждого вещества известны и белки, с которыми оно связывается, и с которыми нет.\n",
        "В этом случае может повезти - и любое разбиение будет давать вам хорошее качество\n",
        "\n",
        "<img src=\"https://kodomo.fbb.msu.ru/FBB/year_20/ml/chembase1.png\" width=\"700\">\n",
        "\n",
        "\n",
        "\n"
      ]
    },
    {
      "cell_type": "markdown",
      "metadata": {
        "id": "GYqgQyabnzcl"
      },
      "source": [
        "Бывают же датасеты, где для каких-то веществ изввестны только белки, которые они ингибируют (ученые любят сообщать об успехах, а не о неудачах) или белки, для которых известны только ингибиторы (или ингибиторов неизвестно).\n",
        "\n",
        "В этом случае без правильного разбиения - хорошо оценить качество модели не получится."
      ]
    },
    {
      "cell_type": "markdown",
      "metadata": {
        "id": "q6R3ojApaq4u"
      },
      "source": [
        "### Разбиение по веществу\n",
        "\n",
        "Информация про одно и то же вещество идет либо только в обучение, либо только в тест."
      ]
    },
    {
      "cell_type": "markdown",
      "metadata": {
        "id": "Tb69RKv6Y6-b"
      },
      "source": [
        "### Разбиение по scaffold"
      ]
    },
    {
      "cell_type": "markdown",
      "metadata": {
        "id": "dMsZmxm9ZdQS"
      },
      "source": [
        "Разбиение по структуре вещества. Например, на основании [Bemis-Murcko scaffold](https://docs.chemaxon.com/display/docs/bemis-murcko-clustering.md)"
      ]
    },
    {
      "cell_type": "markdown",
      "metadata": {
        "id": "rTG1ikqqZWuG"
      },
      "source": [
        "\n",
        "<img src=\"https://kodomo.fbb.msu.ru/FBB/year_21/bemismurko_scaf.jpeg\" width=\"500\">"
      ]
    },
    {
      "cell_type": "markdown",
      "metadata": {
        "id": "9RHnkgTfaGdl"
      },
      "source": [
        "### Разбиение по белку\n",
        "\n",
        "Комплексы одного и того же белка идут либо только в обучении, либо в тест."
      ]
    },
    {
      "cell_type": "markdown",
      "metadata": {
        "id": "pO7A_9zkbCvT"
      },
      "source": [
        "### Разбиение по семействам\n",
        "\n",
        "Есть разные разбиения белков на классы по похожести.\n",
        "\n",
        "Можем брать белки из одного класса либо только в обучение, либо только в тест. Или можно напрямую контролировать, чтобы похожесть между последовательностями в обучении и тесте не была больше заданного порога\n",
        "\n",
        "\n",
        "\n",
        "![alttext](https://d3i71xaburhd42.cloudfront.net/67fdfd931031a2cce96e5f1d06369e06ce9e6bae/8-Figure3-1.png)"
      ]
    },
    {
      "cell_type": "markdown",
      "metadata": {
        "id": "_b86jVWbvwSW"
      },
      "source": [
        "## Медицинские записи\n",
        "\n",
        "В медицинских записях так же [могут](https://www.sciencedirect.com/science/article/pii/S153204641830073X) встречаться полные дупликаты или почти-дупликаты. Если не очистить датасет от них предварительно или не обеспечить праавильного разбиения - получится неправильная оценка качества модели\n",
        "\n",
        "<img src=\"https://ars.els-cdn.com/content/image/1-s2.0-S153204641830073X-fx1_lrg.jpg\" width=\"600\">"
      ]
    },
    {
      "cell_type": "markdown",
      "metadata": {
        "id": "_zohdF5kI1ke"
      },
      "source": [
        "## RNA-Seq"
      ]
    },
    {
      "cell_type": "markdown",
      "metadata": {
        "id": "jAMOsptRI3tG"
      },
      "source": [
        "Бывает и [такое](https://www.biorxiv.org/content/10.1101/2020.09.09.290395v1.full)\n",
        "\n",
        ">The testing data was held by a separate analysis group\n",
        "using a different computer system to avoid any possibility\n",
        "of inadvertent use of test data in the model building\n",
        "process.\n",
        "\n"
      ]
    },
    {
      "cell_type": "markdown",
      "metadata": {
        "id": "nFWMJ5jHcdb5"
      },
      "source": [
        "Но вообще проблема серьезная. На прошой лекции уже был пример"
      ]
    },
    {
      "cell_type": "code",
      "metadata": {
        "id": "gYE0EGxecbl7"
      },
      "source": [
        "!wget --load-cookies /tmp/cookies.txt \"https://docs.google.com/uc?export=download&confirm=$(wget --quiet --save-cookies /tmp/cookies.txt --keep-session-cookies --no-check-certificate 'https://docs.google.com/uc?export=download&id=1b5XLe7hVBv2Y0xiXaG0-SGGAk4HLSOTl' -O- | sed -rn 's/.*confirm=([0-9A-Za-z_]+).*/\\1\\n/p')&id=1b5XLe7hVBv2Y0xiXaG0-SGGAk4HLSOTl\" -O gse53625_expression.csv && rm -rf /tmp/cookies.txt"
      ],
      "execution_count": null,
      "outputs": []
    },
    {
      "cell_type": "code",
      "metadata": {
        "id": "_5IfSIizckqG"
      },
      "source": [
        "!wget --no-check-certificate 'https://docs.google.com/uc?export=download&id=1vhCwAOc0v8HE75Q-47sWmETAmi_JiH7N' -O gse53625_metadata.csv"
      ],
      "execution_count": null,
      "outputs": []
    },
    {
      "cell_type": "code",
      "metadata": {
        "id": "8tgndXTXcmcx"
      },
      "source": [
        "escc = pd.read_csv(\"./gse53625_expression.csv\", index_col=0)\n",
        "escc_meta = pd.read_csv(\"./gse53625_metadata.csv\", index_col=0)"
      ],
      "execution_count": null,
      "outputs": []
    },
    {
      "cell_type": "code",
      "metadata": {
        "id": "er6XYDNgconA"
      },
      "source": [
        "import seaborn as sns\n",
        "from sklearn.preprocessing import StandardScaler\n",
        "from sklearn.decomposition import PCA\n",
        "from sklearn.manifold import TSNE\n",
        "\n",
        "def draw_pca_chart(df: pd.DataFrame, y_column=None, normalize=True, vis_type=\"PCA\", seed=42):\n",
        "    assert vis_type.lower() in [\"pca\", \"tsne\", \"umap\"], \"Incorrect visualization type/ Allowed: 'pca', 'tsne', 'umap'\"\n",
        "\n",
        "    df = df.copy()\n",
        "    if y_column is None:\n",
        "        y = pd.Series(index=df.index, data=0, name=None)\n",
        "    elif isinstance(y_column, str):\n",
        "        assert y_column in df.columns, f\"{y_column} is not in DataFrame\"\n",
        "        y = df.pop(y_column)\n",
        "    elif isinstance(y_column, pd.Series):\n",
        "        y = y_column\n",
        "    df = df.select_dtypes(include=np.number)\n",
        "    X = df.values\n",
        "\n",
        "    if normalize:\n",
        "        scaler = StandardScaler()\n",
        "        X = scaler.fit_transform(X)\n",
        "\n",
        "    if vis_type.lower() == \"pca\":\n",
        "        pca = PCA(n_components=2) # no kernel pca\n",
        "        X_transf = pca.fit_transform(X)\n",
        "    elif vis_type.lower() == \"tsne\":\n",
        "        tsne = TSNE(n_components=2, random_state=seed) # no distance\n",
        "        X_transf = tsne.fit_transform(X)\n",
        "    elif vis_type.lower() == \"umap\":\n",
        "        um = umap.UMAP(n_components=2, random_state=seed) # no distance\n",
        "        X_transf = um.fit_transform(X)\n",
        "\n",
        "    df = pd.DataFrame({\"Component 1\": X_transf[:,0],\n",
        "                       \"Component 2\": X_transf[:,1],\n",
        "                       y.name: y})\n",
        "    plt.figure(figsize=(8, 6))\n",
        "    sns.scatterplot(x=\"Component 1\", y=\"Component 2\", hue=y.name, data=df, alpha=0.75)\n",
        "    plt.title(f\"{vis_type} analysis\", fontsize=16)"
      ],
      "execution_count": null,
      "outputs": []
    },
    {
      "cell_type": "code",
      "metadata": {
        "id": "pbtuoVWicrYm"
      },
      "source": [
        "draw_pca_chart(escc.T, escc_meta[\"Dataset\"], normalize=False)"
      ],
      "execution_count": null,
      "outputs": []
    },
    {
      "cell_type": "markdown",
      "metadata": {
        "id": "dJj3MDuncu_v"
      },
      "source": [
        "Решить эту можно по-разному. Но она не всегда решается и не всегда **можно заметить**, что она не решилась.\n",
        "\n",
        "Потому правила те же - бить данные по пациентам/больницам и тд."
      ]
    },
    {
      "cell_type": "markdown",
      "metadata": {
        "id": "6YLCcOfc7xBI"
      },
      "source": [
        "## Гомологичные последовательности\n",
        "\n",
        "При работе с белковыми последовательностями также стоит учитывать то, что они могут образовывать кластеры очень похожих друг на друга последовательностей.\n",
        "Обычно, чем меньше похожесть последовательностей из трейна и теста друг на друга, тем сложнее оказывается задача.\n",
        "\n",
        "Например, в [задаче предказания GO-аннотации](https://www.nature.com/articles/s41598-020-80786-0) качество модели падает (местами дяо качеста классических методов), по мере увеличения похожести между обучением и тестом\n",
        "\n",
        "<img src=\"https://kodomo.fbb.msu.ru/FBB/year_20/ml/go_pred.png\" width=\"700\">\n",
        "\n"
      ]
    },
    {
      "cell_type": "markdown",
      "metadata": {
        "id": "LLSSj2wIg9iq"
      },
      "source": [
        "## Общая рекомендация\n",
        "\n",
        "Всегда думайте, что в Вашей задаче является источником распределения, генерирующего данные. Отсюда вытекают cross-chromosome, cross-cell line, cross-patient и прочие валидации..."
      ]
    }
  ]
}