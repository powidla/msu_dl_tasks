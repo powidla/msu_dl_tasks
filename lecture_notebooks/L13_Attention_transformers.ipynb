{
  "nbformat": 4,
  "nbformat_minor": 0,
  "metadata": {
    "colab": {
      "provenance": [],
      "collapsed_sections": [
        "xYWoNTawKxHj",
        "ta5HQWW1KxHk",
        "WQA305mrKxHn",
        "muCHK5JWKxHp",
        "1OQAoh1_KxHp"
      ]
    },
    "language_info": {
      "name": "python"
    },
    "kernelspec": {
      "name": "python3",
      "display_name": "Python 3"
    }
  },
  "cells": [
    {
      "cell_type": "markdown",
      "metadata": {
        "id": "T_uuncj6KxHh"
      },
      "source": [
        "## Seq2Seq и его ограничение"
      ]
    },
    {
      "cell_type": "markdown",
      "metadata": {
        "id": "IwCncUZv1yMP"
      },
      "source": [
        "Ранее нами была разобрана архитектура Seq2Seq.\n",
        "\n",
        "Ее идея проста - сначала нейросеть - энкодер, сжимает исходное изображение\n",
        "\n",
        "\n",
        "<img src =\"https://kodomo.fbb.msu.ru/FBB/year_21/seq2seq_1.png\" width=\"550px\">\n"
      ]
    },
    {
      "cell_type": "markdown",
      "metadata": {
        "id": "ueZjYwWp2GNz"
      },
      "source": [
        "А затем другая нейросеть берет на вход это сжатое представление и на основании него порождает новое предложение (например - перевод)\n",
        "\n",
        "<img src =\"https://kodomo.fbb.msu.ru/FBB/year_21/seq2seq_2.png\" width=\"600px\">"
      ]
    },
    {
      "cell_type": "markdown",
      "metadata": {
        "id": "4XwphI6d19d-"
      },
      "source": [
        "Использование единственного вектора для предоставления информации может работать только для последовательностей малой длины. Почему? Ибо в этом единственном векторе $c$ можно сжать только конечное количество информации. Потому в какой-то момент нам перестанет хватать \"места\" в этом векторе.\n",
        "\n",
        "Нам нужен некий механизм, который будет обходить \"бутылочное горлышко\" и не сжимать всю информацию в один вектор $c$."
      ]
    },
    {
      "cell_type": "markdown",
      "metadata": {
        "id": "SCVxHIYDKxHh"
      },
      "source": [
        "## Attention"
      ]
    },
    {
      "cell_type": "markdown",
      "metadata": {
        "id": "IgMUi-qnKxHh"
      },
      "source": [
        "Идея проста - не будем делать состояние $c$ фиксированным.\n",
        "\n",
        "Давайте  Пусть на каждом этапе, при генерации нового слова, наш декодер имеет возможность сформировать новое $c$, на основе всех скрытых состояний $h_i$ енкодера.\n",
        "Для простоты - пусть он подбирает веса, суммирующиеся в единицу, с которыми сложить эти представления, чтобы получить новое $c$.\n",
        "Таким образом, в каждый момент времени наш декодер имеет доступ ко всему исходному предложению (представлению каждого слова) и может акцентировать внимание на конкретно нужных в данный момент словах.\n",
        "\n",
        "Теперь длина пути, который надо преодолеть информации от места ее появления (исходное предложение) до места, где она может пригодиться (новое предложение) - константа, а раньше она была пропорциональна длине исходного предложения."
      ]
    },
    {
      "cell_type": "markdown",
      "metadata": {
        "id": "hOEgGEJPKxHi"
      },
      "source": [
        "\n",
        "\n",
        "<img src =\"https://miro.medium.com/max/1400/1*B33MU-QFnkTngXklABfJnw.png\" width=\"700\">"
      ]
    },
    {
      "cell_type": "markdown",
      "metadata": {
        "id": "k0aLW6DK0Gia"
      },
      "source": [
        "Единсттвенное остается понять, а как именно будут подбираться веса, с которым будут складываться скрытые состояние енкодера.\n",
        "\n",
        "Просто сделаем для этого простую нейросеть.\n"
      ]
    },
    {
      "cell_type": "markdown",
      "metadata": {
        "id": "Yk3BYMvuKxHi"
      },
      "source": [
        "<img src =\"https://miro.medium.com/max/1400/1*YM4T-QSJIIPQUlMOO_gnzw.png\" width=\"700\">"
      ]
    },
    {
      "cell_type": "markdown",
      "metadata": {
        "id": "mc_Dj_w3KxHi"
      },
      "source": [
        "Давайте посмотрим как фокусировка работает на примере перевода с английского на французский\n",
        "\n",
        "Как мы знаем, на каждом шаге генерируется набор весов, которые отвечают за фокусировку на том или ином месте входной последовательности.\n",
        "В английском прилагательные идут перед существительным, в то время как во французском языке наоборот. И наша нейросеть учится этому и обращает внимание на \"правильные\" слова"
      ]
    },
    {
      "cell_type": "markdown",
      "metadata": {
        "id": "iZ808Nx6KxHi"
      },
      "source": [
        "<img src =\"https://theaisummer.com/static/3bbdf4a6d68559a5d3847a04ebb3370b/8c76f/attention-alignment.png\" width=\"700\">"
      ]
    },
    {
      "cell_type": "markdown",
      "metadata": {
        "id": "S4t5i6NEKxHj"
      },
      "source": [
        "Следующим шагом будет также заметить, что для достаточно длинного предложения наша модель может забыть и то, что она генерирует. Потому мы можем сделать два attention - один на представления исходного предложения, а второе - на представление того, что уже сгенерировано (что еще не сгенерировано - заменяем нулями)\n"
      ]
    },
    {
      "cell_type": "markdown",
      "metadata": {
        "id": "xYWoNTawKxHj"
      },
      "source": [
        "### Проблема attention\n",
        "\n",
        "Очевидно, у этого подхода есть свои минусы.\n",
        "\n",
        "Самый важный из них - ваша модель должна уметь предсказывать веса для каждого слова в исходном предложении. И обычные подходы принуждают нас фиксировать размер этого вектора весов.\n",
        "\n",
        "За счет этого у нас возникло ограничение, от которого мы избавлялись - модель не может принимать (и, если используем attention на то, что сгенерировано, генерировать) предложения больше определенного размера. С другой стороны, ничто не мешает поставить этот максимальный размер достаточно большим, чтобы для бОльшей части предложений это работало.\n",
        "\n",
        "Почему это не сильный проигрыш в сравненении с LSTM - так оно все равно было ограничено в длине предложения, просто неявно, что даже хуже - лучше иметь модель, которая на длине предложения 45 падает, а не генерирует несвязный текст.\n",
        "\n",
        "Кроме того, при большом желании, эти проблемы тоже можно обойти\n",
        "\n",
        "\n"
      ]
    },
    {
      "cell_type": "markdown",
      "metadata": {
        "id": "5ieq6qdfKxHj"
      },
      "source": [
        "### Image Captioning with RNNs and Attention\n",
        "\n",
        "В случае, когда мы хотим сгенерировать на основании картинки ее описание.\n",
        "\n",
        "Можем ввести Attention - просто будем изначальную картинку (лучше, конечно - ее сжатое представление) домножать на вектор весов, указывающих, на какую часть изображения надо обратить внимание.\n",
        "\n",
        "В каждый момент времени мы акцентируем внимание на конкретных областях картинки"
      ]
    },
    {
      "cell_type": "markdown",
      "source": [
        "Когда генерим слово птица - смотрим на птицу, люди - смотрим на людей, и тд\n",
        "\n",
        "<img src =\"https://miro.medium.com/max/1400/1*-msb3dvXaCwHRGYi6a261w.png\" width=\"700\">"
      ],
      "metadata": {
        "id": "RdvZXYY0ob1H"
      }
    },
    {
      "cell_type": "markdown",
      "source": [
        "## Словарь"
      ],
      "metadata": {
        "id": "eg2BgXiuea6o"
      }
    },
    {
      "cell_type": "markdown",
      "source": [
        "В общем случае, можно представить функционирование словаря следующим образом"
      ],
      "metadata": {
        "id": "TLFYkRlB9T2L"
      }
    },
    {
      "cell_type": "markdown",
      "source": [
        "<img src =\"https://kodomo.fbb.msu.ru/FBB/year_21/keyvaluedict.png\" width=\"500px\">"
      ],
      "metadata": {
        "id": "H6hKRm679fe_"
      }
    },
    {
      "cell_type": "code",
      "source": [
        "d = {\"milk\":1, \"river\": 2, \"ocean\": 3, \"lemon\": 4, \"watermelon\": 5, \"sand\": 6}\n"
      ],
      "metadata": {
        "id": "7ouKMG4Tecmr"
      },
      "execution_count": null,
      "outputs": []
    },
    {
      "cell_type": "code",
      "source": [
        "query = 'milk'\n",
        "d[query]"
      ],
      "metadata": {
        "colab": {
          "base_uri": "https://localhost:8080/"
        },
        "id": "zbwo5lPmgWn6",
        "outputId": "a5f5589b-d127-4748-c24a-1418ec2f8966"
      },
      "execution_count": null,
      "outputs": [
        {
          "output_type": "execute_result",
          "data": {
            "text/plain": [
              "1"
            ]
          },
          "metadata": {},
          "execution_count": 2
        }
      ]
    },
    {
      "cell_type": "code",
      "source": [
        "d['ocean']"
      ],
      "metadata": {
        "colab": {
          "base_uri": "https://localhost:8080/"
        },
        "id": "VzpG-JLlgXnL",
        "outputId": "103c9827-4dfa-459d-c991-4d0046ec8d8b"
      },
      "execution_count": null,
      "outputs": [
        {
          "output_type": "execute_result",
          "data": {
            "text/plain": [
              "3"
            ]
          },
          "metadata": {},
          "execution_count": 3
        }
      ]
    },
    {
      "cell_type": "markdown",
      "source": [
        "Если ключа нет, но в словаре есть похожие ключи (по смыслу) - все равно получим ошибку"
      ],
      "metadata": {
        "id": "X0McfB4Qgin9"
      }
    },
    {
      "cell_type": "code",
      "source": [
        "d['water']"
      ],
      "metadata": {
        "colab": {
          "base_uri": "https://localhost:8080/",
          "height": 166
        },
        "id": "gV6lvOkEggHr",
        "outputId": "c288e2fa-9647-4274-c75b-a1eacb8b5003"
      },
      "execution_count": null,
      "outputs": [
        {
          "output_type": "error",
          "ename": "KeyError",
          "evalue": "ignored",
          "traceback": [
            "\u001b[0;31m---------------------------------------------------------------------------\u001b[0m",
            "\u001b[0;31mKeyError\u001b[0m                                  Traceback (most recent call last)",
            "\u001b[0;32m<ipython-input-4-ef9682ddb4a3>\u001b[0m in \u001b[0;36m<module>\u001b[0;34m()\u001b[0m\n\u001b[0;32m----> 1\u001b[0;31m \u001b[0md\u001b[0m\u001b[0;34m[\u001b[0m\u001b[0;34m'water'\u001b[0m\u001b[0;34m]\u001b[0m\u001b[0;34m\u001b[0m\u001b[0;34m\u001b[0m\u001b[0m\n\u001b[0m",
            "\u001b[0;31mKeyError\u001b[0m: 'water'"
          ]
        }
      ]
    },
    {
      "cell_type": "markdown",
      "source": [
        "Допустим, мы знаем, насколько вода похожа на ключи в словаре"
      ],
      "metadata": {
        "id": "3wyM1_DFhQFc"
      }
    },
    {
      "cell_type": "code",
      "source": [
        "d = {\"milk\":1, \"river\": 2, \"ocean\": 3, \"lemon\": 4, \"watermelon\": 5, \"sand\": 6}\n",
        "water_like = {\"river\": 5, \"ocean\": 10, \"milk\": 2, \"lemon\": 0.2, \"watermelon\": 1, \"sand\": 0}"
      ],
      "metadata": {
        "id": "xRjJLsytg5cl"
      },
      "execution_count": null,
      "outputs": []
    },
    {
      "cell_type": "code",
      "source": [
        "import numpy as np\n",
        "similarity = np.array([water_like[k] for k in d.keys()])\n",
        "values = np.array(list(d.values()))\n",
        "weights = similarity / similarity.sum()\n",
        "\n",
        "water_value = np.dot(weights, values)\n",
        "water_value"
      ],
      "metadata": {
        "colab": {
          "base_uri": "https://localhost:8080/"
        },
        "id": "JGEhYcObh1kg",
        "outputId": "742312d9-4414-4517-d7c2-7fb53b6e0c72"
      },
      "execution_count": null,
      "outputs": [
        {
          "output_type": "execute_result",
          "data": {
            "text/plain": [
              "2.6263736263736264"
            ]
          },
          "metadata": {},
          "execution_count": 6
        }
      ]
    },
    {
      "cell_type": "markdown",
      "source": [
        "То есть если мы умеем вычислять похожесть нашего ключа на имеющиеся ключи в словаре, то мы можем даже для неизвестного ключа получать ответы"
      ],
      "metadata": {
        "id": "s0cBFkmiikuf"
      }
    },
    {
      "cell_type": "markdown",
      "source": [
        "У нас похожести могут выглядеть  иначе - чем больше похожесть, чем объект более похож, чем меньше (до минус бесконечности) - тем менее\n",
        "\n",
        "Тогда можно веса нормировать в единице при помощи softmax"
      ],
      "metadata": {
        "id": "qu6-x6dUkDqA"
      }
    },
    {
      "cell_type": "code",
      "source": [
        "d = {\"milk\":1, \"river\": 2, \"ocean\": 3, \"lemon\": 4, \"watermelon\": 5, \"sand\": 6}\n",
        "water_like = {\"river\": 5, \"ocean\": 15, \"milk\": 2, \"lemon\": 0, \"watermelon\": 1, \"sand\": -1000}\n"
      ],
      "metadata": {
        "id": "UDcSMs6OkREK"
      },
      "execution_count": null,
      "outputs": []
    },
    {
      "cell_type": "code",
      "source": [
        "from scipy.special import softmax"
      ],
      "metadata": {
        "id": "B1Vs3XTYldwC"
      },
      "execution_count": null,
      "outputs": []
    },
    {
      "cell_type": "code",
      "source": [
        "\n",
        "similarity = np.array([water_like[k] for k in d.keys()])\n",
        "values = np.array(list(d.values()))\n",
        "weights = softmax(similarity)\n",
        "\n",
        "water_value = np.dot(weights, values)\n",
        "water_value"
      ],
      "metadata": {
        "colab": {
          "base_uri": "https://localhost:8080/"
        },
        "id": "AM6kPx25lbZg",
        "outputId": "e9b3b55b-e557-48be-9b2f-3d481041cbab"
      },
      "execution_count": null,
      "outputs": [
        {
          "output_type": "execute_result",
          "data": {
            "text/plain": [
              "2.999952050710995"
            ]
          },
          "metadata": {},
          "execution_count": 9
        }
      ]
    },
    {
      "cell_type": "code",
      "source": [
        "weights.sum()"
      ],
      "metadata": {
        "colab": {
          "base_uri": "https://localhost:8080/"
        },
        "id": "xiZaj6XNlsmi",
        "outputId": "d890bde1-726b-4846-a6ce-08456fd4fca0"
      },
      "execution_count": null,
      "outputs": [
        {
          "output_type": "execute_result",
          "data": {
            "text/plain": [
              "0.9999999999999996"
            ]
          },
          "metadata": {},
          "execution_count": 10
        }
      ]
    },
    {
      "cell_type": "markdown",
      "source": [
        "В общем случае, можно представить фуункционирование словаря следующим образом"
      ],
      "metadata": {
        "id": "koYN_sTX9HNW"
      }
    },
    {
      "cell_type": "markdown",
      "source": [],
      "metadata": {
        "id": "bmXpnUUt9F0_"
      }
    },
    {
      "cell_type": "markdown",
      "source": [
        "## Key, query, value\n",
        "\n"
      ],
      "metadata": {
        "id": "l1oqd6Mu6vih"
      }
    },
    {
      "cell_type": "markdown",
      "source": [
        "Мы можем формализовать процедуру attention через введение концепций key, query\n",
        "и value.\n",
        "<img src =\"https://kodomo.fbb.msu.ru/FBB/year_21/keyvaluememory.png\" width=\"400px\">"
      ],
      "metadata": {
        "id": "iB5s_ny261b0"
      }
    },
    {
      "cell_type": "markdown",
      "source": [
        "Attention же будет выглядеть так"
      ],
      "metadata": {
        "id": "EU_IFntc8G1z"
      }
    },
    {
      "cell_type": "markdown",
      "source": [
        "\n",
        "<img src =\"https://kodomo.fbb.msu.ru/FBB/year_21/keyvalueattention.png\" width=\"400px\">"
      ],
      "metadata": {
        "id": "KEPgsMHJ75Ee"
      }
    },
    {
      "cell_type": "markdown",
      "metadata": {
        "id": "IXwOJL0JKxHk"
      },
      "source": [
        "\n",
        "\n",
        "\n",
        "К примеру, у нас есть картинка. На этой картинки у нас есть области, которые можно описать одним словом - key. Например - фонарь/девушка/...\n",
        "\n",
        "Сами эти области - это value, которые введенным key соответствуют.\n",
        "\n",
        "Далее нам приходит query - например, running. Мы можем посчитать похожесть каждого из ключей, которые у нас есть на query.\n",
        "\n",
        "И далее выдать информацию только по value, похожим на наш query.\n",
        "\n",
        "<img src =\"https://kodomo.fbb.msu.ru/FBB/year_21/keyvaluegirl.png\" width=\"400px\">\n",
        "\n",
        "По сути мы описали то, как будем делать при помощи нейронок питоновский словарь. С той разницей, что питоновский словарь может выдавать значения для только тех ключей, что в нем есть, а наш словарь выдает ответ для любого ключа-запроса, основываясь на его похожести на ключи словаря"
      ]
    },
    {
      "cell_type": "markdown",
      "metadata": {
        "id": "k0KT8GgiKxHk"
      },
      "source": [
        "### Keq, Query, Value на примере текста\n",
        "\n",
        "Разобьем наше предложение на токены (в данном случае - просто слова). Получим представление каждого токена\n",
        "\n",
        "<img src =\"https://kodomo.fbb.msu.ru/FBB/year_20/ml/sentence_kqv.png\" width=\"1000\">\n",
        "\n",
        "Каждое слово будет являться одновременно и key, и value.\n",
        "\n",
        "Теперь можно подать любой query, например - вода, и в случае, если у нас эмбединги слов хорошие, что нам \"подсветятся\" слова, связанные с водой"
      ]
    },
    {
      "cell_type": "markdown",
      "source": [
        "<img src =\"https://kodomo.fbb.msu.ru/FBB/year_21/keyvalue_example.png\" width=\"700px\">"
      ],
      "metadata": {
        "id": "HffHxx8GKov2"
      }
    },
    {
      "cell_type": "markdown",
      "metadata": {
        "id": "f6X51OQ5KxHk"
      },
      "source": [
        "## Attention Layer\n",
        "\n",
        "Эту идею реализует attention layer.\n",
        "\n",
        "\n",
        "\n"
      ]
    },
    {
      "cell_type": "markdown",
      "source": [],
      "metadata": {
        "id": "rpSWVdAMKWNK"
      }
    },
    {
      "cell_type": "markdown",
      "metadata": {
        "id": "elSFDJROKxHk"
      },
      "source": [
        "Что мы таким образом получили? Фактически, мы получили дифференцируемый аналог словаря в Python. Только этот словарь еще умеет делать неточный поиск"
      ]
    },
    {
      "cell_type": "markdown",
      "metadata": {
        "id": "8EC8Gn1QKxHk"
      },
      "source": [
        "У нас есть некий изначальный набор X - слова в нашем предложении.\n",
        "\n",
        "Мы можем их преобразовать как-то, чтобы получить более удобные для дальнейшей цели K - предполагается, что они лучше помогают сравнивать между собой слова.\n",
        "В простейшем случае некое линейное преобразование $K = XW_K$\n",
        "\n",
        "Далее у нас есть значения, V, которые тоже получаются из X путем какого-то преобразования, которое делает их более применимыми для работы модели (важные признаки и тд), например $V = XW_V$\n",
        "\n"
      ]
    },
    {
      "cell_type": "markdown",
      "metadata": {
        "id": "wsMCmXIeKxHk"
      },
      "source": [
        "Далее к нам приходят запросы Q, которые находятся в том же пространстве, что и ключи. Фактически - наша нейросеть пытается вытащить из данных интересующую ее информацию. К примеру - ей нужно найти всех животных и все растения - тогда Q= {\"животные\", \"растения\"}\n",
        "\n",
        "\n",
        "Мы сравниваем эти запросы с ключами - считаем просто попарные косинусные расстояние между каждым ключом $K_i$ и запросом $Q_j$. Получаем похожесть каждого ключа на запрос, нормируем ее на корень из размерности представления нашего ключа.\n",
        "\n",
        "$E = \\dfrac {QK^T} {\\sqrt{D}} $\n",
        "\n",
        "Получили матрицу похожестей $E$, где $E_{ij}$ - похожесть ключа $K_i$ на запрос $Q_j$\n",
        "\n",
        "Далее мы применяем к похожестям $E$ softmax, беря его по каждомуу ключу отдельно (по каждому столбцу матрицы E). Теперь у нас похожести каждого запроса складываются в единицу.\n",
        "\n",
        "$A = softmax(E, dim=1)$\n",
        "\n",
        "Получили для каждого запроса его \"разложение\" в виде ключей.\n",
        "\n",
        "Далее, чтобы получить значения, соответствующие каждому запросу, складываем значения с весами соответствующих ключей\n",
        "\n",
        "$Y_j = \\sum_iA_i V_i$\n",
        "\n",
        "$Y = AV$\n",
        "\n",
        "\n",
        "<img src =\"https://kodomo.fbb.msu.ru/FBB/year_20/ml/attention_layer.png\" width=\"700\">\n"
      ]
    },
    {
      "cell_type": "markdown",
      "metadata": {
        "id": "ta5HQWW1KxHk"
      },
      "source": [
        "### *Softmax normalization\n",
        "\n",
        "Вы могли заметить, что в формуле для E мы делим на корень из размерности представления ключа. Зачем это?\n",
        "\n"
      ]
    },
    {
      "cell_type": "markdown",
      "metadata": {
        "id": "6vWYx-h7KxHk"
      },
      "source": [
        "Давайте сгенерируем вектор из многомерного нормального распределения"
      ]
    },
    {
      "cell_type": "code",
      "metadata": {
        "id": "vvRbokp8KxHk",
        "colab": {
          "base_uri": "https://localhost:8080/"
        },
        "outputId": "712d799c-1d7b-4a06-fc53-8a9da7700eae"
      },
      "source": [
        "import numpy as np\n",
        "import matplotlib.pyplot as plt\n",
        "\n",
        "a = np.random.normal(0,100,size=(10000))\n",
        "plt.hist(a)\n",
        "plt.show()"
      ],
      "execution_count": null,
      "outputs": [
        {
          "output_type": "display_data",
          "data": {
            "text/plain": [
              "<Figure size 432x288 with 1 Axes>"
            ],
            "image/png": "[encoded data removed]"
          },
          "metadata": {
            "needs_background": "light"
          }
        }
      ]
    },
    {
      "cell_type": "markdown",
      "metadata": {
        "id": "70p864VAKxHk"
      },
      "source": [
        "И посмотрим, что будет с распределением значений этого вектора, если к нему применить softmax"
      ]
    },
    {
      "cell_type": "code",
      "metadata": {
        "id": "o_l8pVTvKxHl",
        "colab": {
          "base_uri": "https://localhost:8080/"
        },
        "outputId": "194b06b8-2364-4399-eeed-87fd0efe52f2"
      },
      "source": [
        "from scipy.special import softmax\n",
        "\n",
        "plt.plot(softmax(a))\n",
        "plt.show()"
      ],
      "execution_count": null,
      "outputs": [
        {
          "output_type": "display_data",
          "data": {
            "text/plain": [
              "<Figure size 432x288 with 1 Axes>"
            ],
            "image/png": "[encoded data removed]"
          },
          "metadata": {
            "needs_background": "light"
          }
        }
      ]
    },
    {
      "cell_type": "markdown",
      "metadata": {
        "id": "w2dNnnPoKxHl"
      },
      "source": [
        "Почти все значения 0 и одно (по случайным причинам), стало 1.\n",
        "Мы получили так называемое вырожденное распределение - у него вся плотность сосредоточена в одной точке.\n",
        "\n",
        "И получили на абсолютно случайных данных.\n",
        "\n",
        "Это приведет к затуханию градиента - мы будем распространять ошибку только для 1 значения из 10000. Учиться сеть будет плохо"
      ]
    },
    {
      "cell_type": "markdown",
      "metadata": {
        "id": "9rvrBt9lKxHl"
      },
      "source": [
        "Но этого можно избежать - давайте просто отнормируем наши данные"
      ]
    },
    {
      "cell_type": "code",
      "metadata": {
        "id": "wj-LVW9wKxHl",
        "colab": {
          "base_uri": "https://localhost:8080/"
        },
        "outputId": "c0302c8a-ded6-42e7-a60a-827695d8b441"
      },
      "source": [
        "std = np.random.normal(0,100,size=(10000))\n",
        "\n",
        "unit_std = std/100\n",
        "\n",
        "plt.hist(std)\n",
        "plt.show()\n",
        "plt.hist(unit_std)\n",
        "plt.show()"
      ],
      "execution_count": null,
      "outputs": [
        {
          "output_type": "display_data",
          "data": {
            "text/plain": [
              "<Figure size 432x288 with 1 Axes>"
            ],
            "image/png": "[encoded data removed]"
          },
          "metadata": {
            "needs_background": "light"
          }
        },
        {
          "output_type": "display_data",
          "data": {
            "text/plain": [
              "<Figure size 432x288 with 1 Axes>"
            ],
            "image/png": "[encoded data removed]"
          },
          "metadata": {
            "needs_background": "light"
          }
        }
      ]
    },
    {
      "cell_type": "markdown",
      "metadata": {
        "id": "Q9557VhuKxHl"
      },
      "source": [
        "По сути в распределении ничего не поменялось - только масштаб. Но теперь softmax работает нормально"
      ]
    },
    {
      "cell_type": "code",
      "metadata": {
        "id": "zBpHXks_KxHl",
        "colab": {
          "base_uri": "https://localhost:8080/"
        },
        "outputId": "03f9dee4-dc8c-4aea-ae87-df5e691b8e38"
      },
      "source": [
        "plt.plot(softmax(unit_std))\n",
        "plt.show()"
      ],
      "execution_count": null,
      "outputs": [
        {
          "output_type": "display_data",
          "data": {
            "text/plain": [
              "<Figure size 432x288 with 1 Axes>"
            ],
            "image/png": "[encoded data removed]"
          },
          "metadata": {
            "needs_background": "light"
          }
        }
      ]
    },
    {
      "cell_type": "markdown",
      "metadata": {
        "id": "Y9vEmhg2KxHl"
      },
      "source": [
        "Остается только понять, а как нормировать наши данные в нашем слое? Считать налету, наверное, не лучшая идея.\n",
        "\n",
        "Наш слой делает сколярное произведение между двумя векторами, предположим, нормально распределенными"
      ]
    },
    {
      "cell_type": "code",
      "metadata": {
        "id": "bZxrwXLjKxHl"
      },
      "source": [
        "c = []\n",
        "for i in range(100):\n",
        "\t    a = np.random.normal(0,1,size=(100))\n",
        "\t    b = np.random.normal(0,1,size=(100))\n",
        "\t    c.append(np.dot(a,b))"
      ],
      "execution_count": null,
      "outputs": []
    },
    {
      "cell_type": "code",
      "metadata": {
        "id": "PNZuPDlzKxHl",
        "colab": {
          "base_uri": "https://localhost:8080/"
        },
        "outputId": "50577101-d386-4091-d4f6-6c8ed1a2f10b"
      },
      "source": [
        "print(np.mean(c))\n",
        "\n",
        "print(np.std(c))"
      ],
      "execution_count": null,
      "outputs": [
        {
          "output_type": "stream",
          "name": "stdout",
          "text": [
            "1.1693784180095654\n",
            "10.046559785669263\n"
          ]
        }
      ]
    },
    {
      "cell_type": "markdown",
      "metadata": {
        "id": "ZLD1C1nqKxHl"
      },
      "source": [
        "Видим, что среднее не сильно отличается от 0 (можно показать, что в среднем оно равно 0 для произведения нормально распределенных величин).\n",
        "\n",
        "А вот стандартное отклонение растет. И, можно предположить, что растет оно как корень из размерности вектора. Так и есть. Потому и появляется именно такой нормировочный множитель в attention"
      ]
    },
    {
      "cell_type": "markdown",
      "metadata": {
        "id": "eSgxK_CTKxHl"
      },
      "source": [
        "### Keq, Query, Value на примере текста. Второй заход\n",
        "\n",
        "Хорошо, у нас есть предложение, мы его разбили на токены, допустим, мы хорошо умеем кодировать эти токены.\n",
        "\n",
        "<img src =\"https://kodomo.fbb.msu.ru/FBB/year_20/ml/sentence_kqv.png\" width=\"1000\">\n",
        "\n",
        "Но каждый токен закодирован на основе самого себя, и только, например, слово bank встречается в тексте два раза, и будет закодировано одинаково, хотя несет разные значения (берег и, собственно, банк).\n",
        "\n",
        "Как нейросети их отличать? Ну, если мы попытаемся на основе только одного токена что-то сделать - никак.\n",
        "\n",
        "А как улучшить кодирование каждого токена, чтобы два \"банка\" отличались?\n",
        "\n",
        "\n",
        "\n"
      ]
    },
    {
      "cell_type": "markdown",
      "metadata": {
        "id": "Vanhk1SgKxHm"
      },
      "source": [
        "Сделаем следующее - каждый токен подадим в нейросеть **и в качестве query**.\n",
        "\n",
        "И будем аггрегировать полученную информацию, получая токен, который будет содержать более конкретную информацию\n",
        "\n",
        "<img src =\"https://miro.medium.com/max/1400/1*QeZiuWDYeTSMIDsQY-44zQ.jpeg\" width=\"750\">\n",
        "\n",
        "Например, bank, который банк, будет содержать информацию о том, что он не просто bank, а \"Bank of America\", который нужно найти (find).\n",
        "\n",
        "Такой подход - когда key, query и value формируются на основе одного и того же входа нейросети называется self-attention\n",
        "\n",
        "\n"
      ]
    },
    {
      "cell_type": "markdown",
      "metadata": {
        "id": "gE900I_7KxHm"
      },
      "source": [
        "## Self-Attention Layer\n",
        "\n",
        "Сделаем это все в виде слоя\n",
        "\n",
        "<img src =\"https://kodomo.fbb.msu.ru/FBB/year_20/ml/selfattention\" width=\"700\">\n",
        "\n",
        "Что изменилось?\n",
        "\n",
        "Теперь X участвует и в производстве K, и в производстве V, и в производстве Q. Потому и self-attention - предложение состоящее из слов X_i, ищет само себя в нашем дифференцируемом словаре. Почему это не приводит к тому, что мы просто получим вектор V?\n",
        "Потому что значения X_i модифицируются и K != Q.\n",
        "\n",
        "\n",
        "\n",
        "\n",
        "\n"
      ]
    },
    {
      "cell_type": "markdown",
      "metadata": {
        "id": "svfEc5HHKxHm"
      },
      "source": [
        "Еще один пример проблемы с текстом, который обычные методы решали плохо\n",
        "\n",
        "Многие из нас знают Первый Закон Робототехники\n",
        "\n",
        "**Second Law of Robotics**\n",
        "\n",
        "\n",
        "A robot must obey the orders given it by human beings except where such orders would conflict with the First Law.\n",
        "\n",
        "Представим, что машина хочет понять, что здесь написано. И ей нужно понять, что имеется ввиду под it.\n",
        "\n",
        "\n",
        "\n",
        "\n"
      ]
    },
    {
      "cell_type": "markdown",
      "metadata": {
        "id": "FuC0TU8pKxHm"
      },
      "source": [
        "Первым делом она формирует на основе каждого слова key и value.\n",
        "\n",
        "<img src =\"https://jalammar.github.io/images/gpt2/self-attention-example-folders-3.png\" width=\"700\">\n"
      ]
    },
    {
      "cell_type": "markdown",
      "metadata": {
        "id": "6jXt0j-gKxHm"
      },
      "source": [
        "Затем она смотрит, какие ключи похожи на Query, полученный из it\n",
        "\n",
        "<img src =\"https://jalammar.github.io/images/gpt2/self-attention-example-folders-scores-3.png\" width=\"700\">\n"
      ]
    },
    {
      "cell_type": "markdown",
      "metadata": {
        "id": "yHIPymOWKxHm"
      },
      "source": [
        "Чтобы получить, что же на самом деле значит it, машина считает взвешенную сумму values, где  веса определяются похожестью query на value\n",
        "\n",
        "\n",
        "\n",
        "<img src =\"https://jalammar.github.io/images/gpt2/gpt2-value-vector-sum.png\" width=\"700\">\n",
        "\n"
      ]
    },
    {
      "cell_type": "markdown",
      "metadata": {
        "id": "ReHsqV9uKxHm"
      },
      "source": [
        "В итоге получается, что it представляет собой \"a robot\" (ну и само себя)."
      ]
    },
    {
      "cell_type": "markdown",
      "source": [
        "В чуть более векторном виде:\n",
        "\n",
        "<img src =\"https://kodomo.fbb.msu.ru/FBB/year_21/attention_example2.png\" width=\"1000px\">\n",
        "\n"
      ],
      "metadata": {
        "id": "q4gI9vzAMyEJ"
      }
    },
    {
      "cell_type": "markdown",
      "source": [
        "Обновляем представление слова Anthony\n",
        "\n",
        "<img src =\"https://kodomo.fbb.msu.ru/FBB/year_21/attention_example3.png\" width=\"800px\">"
      ],
      "metadata": {
        "id": "IrWEKnKBOgf0"
      }
    },
    {
      "cell_type": "markdown",
      "metadata": {
        "id": "CqWiXbQYKxHm"
      },
      "source": [
        "## Positional encoding\n",
        "\n",
        "Единственный возможный минус - наша нейросеть не учитывает порядка слов в предложении при составлении embedding. Это может нам мешать. Например, если в предложении два it, то они часто относятся к разным словам. Потому хотим ууметь учитывать информацию о позиции. Для этого к X при составлении Q добавляется информация о позиции."
      ]
    },
    {
      "cell_type": "markdown",
      "metadata": {
        "id": "oZAZJhbkKxHm"
      },
      "source": [
        "Делается это хитрым образом - мы берем и добавляем к каждому значению исходного вектора токенов некую комбинацию sin и cos с разными параметрами.\n",
        "\n",
        "Вектор PE, который мы будем добавлять к X будет определяться по следующей формуле"
      ]
    },
    {
      "cell_type": "markdown",
      "metadata": {
        "id": "lyukciQCKxHm"
      },
      "source": [
        "$$PE_{pos, 2i} = \\sin {\\dfrac {pos} {10000^{2i/d}}}$$\n",
        "\n",
        "$$PE_{pos, 2i+1} = \\cos {\\dfrac {pos} {10000^{2i/d}}}$$\n",
        "\n",
        "$pos$ - это позиция токена\n",
        "\n",
        "$i$ - iя размерность токена"
      ]
    },
    {
      "cell_type": "code",
      "metadata": {
        "id": "gvUzmGZjKxHm"
      },
      "source": [
        "import torch\n",
        "import math\n",
        "import torch.nn as nn\n",
        "class PositionalEncoding(nn.Module):\n",
        "    \"Implement the PE function.\"\n",
        "    def __init__(self, d_model, max_len=5000):\n",
        "        super(PositionalEncoding, self).__init__()\n",
        "\n",
        "        # Compute the positional encodings once in log space.\n",
        "        pe = torch.zeros(max_len, d_model)\n",
        "        position = torch.arange(0, max_len).unsqueeze(1)\n",
        "        div_term = torch.exp(torch.arange(0, d_model, 2) *\n",
        "                             -(math.log(10000.0) / d_model))\n",
        "        pe[:, 0::2] = torch.sin(position * div_term)\n",
        "        pe[:, 1::2] = torch.cos(position * div_term)\n",
        "        pe = pe.unsqueeze(0)\n",
        "        self.register_buffer('pe', pe)\n",
        "\n",
        "    def forward(self, x):\n",
        "        x = x + self.pe[:, :x.size(1)].detach()\n",
        "        return x"
      ],
      "execution_count": null,
      "outputs": []
    },
    {
      "cell_type": "code",
      "metadata": {
        "id": "CEztPrzQKxHn"
      },
      "source": [
        "pe = PositionalEncoding(20)\n",
        "y = pe(torch.zeros(1, 100, 20)) # последовательность размера 100, каждый токен последовательности имеет размерность 20"
      ],
      "execution_count": null,
      "outputs": []
    },
    {
      "cell_type": "code",
      "metadata": {
        "id": "z1Q4Bbz3KxHn",
        "colab": {
          "base_uri": "https://localhost:8080/",
          "height": 320
        },
        "outputId": "07353781-e4ae-4f39-e95a-b2ebf885dee0"
      },
      "source": [
        "\n",
        "plt.figure(figsize=(15, 5))\n",
        "plt.plot(np.arange(100), y[0, :, 0:4].data.numpy())\n",
        "plt.legend([\"dim %d\"%p for p in [1,2,3,4]])\n",
        "plt.show()"
      ],
      "execution_count": null,
      "outputs": [
        {
          "output_type": "display_data",
          "data": {
            "text/plain": [
              "<Figure size 1080x360 with 1 Axes>"
            ],
            "image/png": "[encoded data removed]"
          },
          "metadata": {
            "needs_background": "light"
          }
        }
      ]
    },
    {
      "cell_type": "code",
      "metadata": {
        "id": "uF31utmYKxHn",
        "colab": {
          "base_uri": "https://localhost:8080/",
          "height": 320
        },
        "outputId": "1e4fa751-04d5-43c3-eaca-3cb2b477283a"
      },
      "source": [
        "plt.figure(figsize=(15, 5))\n",
        "plt.plot(np.arange(100), y[0, :, 4:8].data.numpy())\n",
        "plt.legend([\"dim %d\"%p for p in [4,5,6,7]])\n",
        "plt.show()"
      ],
      "execution_count": null,
      "outputs": [
        {
          "output_type": "display_data",
          "data": {
            "text/plain": [
              "<Figure size 1080x360 with 1 Axes>"
            ],
            "image/png": "[encoded data removed]"
          },
          "metadata": {
            "needs_background": "light"
          }
        }
      ]
    },
    {
      "cell_type": "markdown",
      "metadata": {
        "id": "gwdbM3hPKxHn"
      },
      "source": [
        "Это помогает трснформеру достаточно уникальным образом определять каждую позицию и понимать относительное расстояние между разными токенами"
      ]
    },
    {
      "cell_type": "markdown",
      "metadata": {
        "id": "HnMQNm9hKxHo"
      },
      "source": [
        "\n",
        "\n",
        "## Multihead Self-Attention Layer\n",
        "\n",
        "<img src =\"https://kodomo.fbb.msu.ru/FBB/year_20/ml/multihead_attention.png\" width=\"700\">\n",
        "\n",
        "\n",
        "\n",
        "Давайте посмотрим на то, к каким словам предложения gave может иметь отношение. В общим случае глагол может иметь связку со многоми частями предложения. Как, например, к подлежащему, так и к причастиям.\n",
        "\n",
        "В идеале, нам бы хотелось обратить внимние функции (attention) на все эти взаимосвязи. Для этого нам просто надо поставить несколько attention слоев парралельно. В идеале каждый будет учить что-нибудь свое - аналогия с конволюциями.\n",
        "\n",
        "* Чтобы осуществить задуманное, вместо одного набора query, будем использовать несколько независимых наборов.\n",
        "\n",
        "* Причем каждый набор будет считаться уникальной матрицей.\n",
        "\n",
        "* Аналогично сделаем для keys и values. Количество таких наборов внутри keys, queries, values должно быть **одинаковым**.\n",
        "\n",
        "* Обозначим это число как h - head, далее производим аналогичные манипуляции, при этом введем в параллель h таких функций attention\n",
        "* На последнем шаге мы их соединяем (конкатинируем)\n",
        "\n",
        "* При этом, можно заметить, что таком подходе на каждом шаге размерность токена будет увеличиваться (если, например, в качестве и key, и value, и query мы подаем одно и тоже предсталение токена). Если хотим сохранять управлять размерностью токена, то придется получать по меньшей мере value путем домножения на матрицу, размерность которой по второй оси меньше - **выполнять проекцию наших токенов в пространство меньшей размерности**\n",
        "\n",
        "* В частности, можно подобрать размерность этого пространства таким образом, чтобы при конкатенации размерность полученного токена равнялась исходной.\n",
        "\n",
        "<img src =\"https://data-science-blog.com/wp-content/uploads/2022/01/mha_visualization-930x1030.png\" width=\"400px\">"
      ]
    },
    {
      "cell_type": "markdown",
      "metadata": {
        "id": "sqvemVw7KxHo"
      },
      "source": [
        "\n",
        "\n",
        "\n",
        "## Attention is all you need\n",
        "\n",
        "Оказывается, этот подход работает сам по себе. Не нужно добавлять никаких реккурентных слоев - просто делаем много правильно соединенных attention layers.\n",
        "<img src =\"https://kodomo.fbb.msu.ru/FBB/year_20/ml/attention_is_all.png\" width=\"700\">\n",
        "\n",
        "\n",
        "\n",
        "\n",
        "\n"
      ]
    },
    {
      "cell_type": "markdown",
      "source": [
        "## *Архитектура ванильного трансформера"
      ],
      "metadata": {
        "id": "WZyOZVpGTsZM"
      }
    },
    {
      "cell_type": "markdown",
      "metadata": {
        "id": "-uw0M1awKxHo"
      },
      "source": [
        "### *Базовый блок\n",
        "\n",
        "<img src =\"https://kodomo.fbb.msu.ru/FBB/year_20/ml/base_block\" width=\"700\">\n",
        "\n",
        "\n",
        "Блок устроен следующим образом: входные вектора мы запускаем в блок self-attention и используем residual connection как обходной путь вокруг self-attention, затем мы их складываем. Так как обычно используют multi head self-attention, тут нам и пригождается возможность подобрать параметры так, чтобы размерности входных и выходных токенов не отличались.\n",
        "\n"
      ]
    },
    {
      "cell_type": "markdown",
      "metadata": {
        "id": "5I7D5E_eKxHo"
      },
      "source": [
        "После - применяем слой нормализации, затем - слой feed forward (MLP), плюс обходной путь вокруг feed forward.\n",
        "\n",
        "<img src =\"https://kodomo.fbb.msu.ru/FBB/year_20/ml/mlp_transformer.png\" width=\"500\">\n",
        "\n",
        "Складываем выход MLP-части с residual connection и выполняем нормализацию.\n",
        "\n",
        "Нормализация везде нужна для того, чтобы нейросеть нормально обучалась.\n",
        "\n",
        "Заводим ли разный MLP на каждый токен (по позиции) - конечно нет. К каждому токену применяются MLP с одними и теми же весами.\n"
      ]
    },
    {
      "cell_type": "markdown",
      "metadata": {
        "id": "AUfGAuIhKxHo"
      },
      "source": [
        "В реальных моделях эти слои стекируют друг с другом и получается большая трансформер-модель.\n",
        "\n",
        "<img src =\"https://miro.medium.com/max/1400/1*63vv9pbICaRAIWF2me-efA.jpeg\" width=\"700\">\n"
      ]
    },
    {
      "cell_type": "markdown",
      "metadata": {
        "id": "dfGn_zUXKxHo"
      },
      "source": [
        "Это пример Encoder-модели. Такова рассматриваемая далее BERT. В такой модели на выходе мы получаем некое хорошее представление исходного предложения.\n",
        "\n",
        "Но что если мы хотим сделать задачу перевода с одного языка на другой? Нужен еще Decoder\n",
        "\n"
      ]
    },
    {
      "cell_type": "markdown",
      "metadata": {
        "id": "78pZ-CUzKxHo"
      },
      "source": [
        "### *Decoder\n",
        "\n"
      ]
    },
    {
      "cell_type": "markdown",
      "metadata": {
        "id": "HrcAapJTKxHo"
      },
      "source": [
        "#### *Первая стадия\n",
        "\n",
        "На первой стадии то, как работает Decoder не так сильно отличается от работы Encoder.\n",
        "\n",
        "\n",
        "<img src =\"https://miro.medium.com/max/1400/1*R6_u8qGXKUyyGaHb9-mMDw.jpeg\" width=\"700\">"
      ]
    },
    {
      "cell_type": "markdown",
      "metadata": {
        "id": "6z8ttEqqKxHo"
      },
      "source": [
        "Тем не менее, есть один важный нюанс -  мы используем Masked Attention - наша нейросеть не должна видеть слов, которые еще не сгенерировала."
      ]
    },
    {
      "cell_type": "markdown",
      "metadata": {
        "id": "IR9iDEuzKxHp"
      },
      "source": [
        "На основе первого этапа у нас формируются только query - наша нейросеть на основе того, что она уже сгенерировала решает, какая информация ей нужна дальше"
      ]
    },
    {
      "cell_type": "markdown",
      "metadata": {
        "id": "ipNDFquxKxHp"
      },
      "source": [
        "#### *Вторая стадия\n",
        "\n",
        "Теперь мы используем для K, V информацию, полученную из энкодера и получаем предсказание.\n",
        "\n",
        "<img src =\"https://miro.medium.com/max/2000/1*HKyS_RuocFun1LUubSf-jQ.jpeg\" width=\"800\">\n",
        "\n",
        "\n",
        "\n"
      ]
    },
    {
      "cell_type": "markdown",
      "source": [],
      "metadata": {
        "id": "IuCxtYyVr2T2"
      }
    },
    {
      "cell_type": "markdown",
      "source": [
        "### *Masked Self-Attention Layer"
      ],
      "metadata": {
        "id": "ge99Xq_yrTJg"
      }
    },
    {
      "cell_type": "markdown",
      "metadata": {
        "id": "WQA305mrKxHn"
      },
      "source": [
        "\n",
        "\n",
        "\n",
        "Если у нас стоит проблема, что мы не должны видеть часть слов в предложении - например, при генерации текста (по текущим словам предсказать следующее). Например, хотим сгенерировать фразу \"robot must obey orders\" на основе только первого слова.\n",
        "\n",
        "Если мы скормим в трансформер во время обучения сразу все предложение, которое хотим генерировать, то у нас в первых словах будет \"протекать\" информация о предыдущих.\n",
        "<img src =\"https://jalammar.github.io/images/gpt2/queries-keys-attention-mask.png\" width=\"700\">\n",
        "\n",
        "\n",
        "\n",
        "\n",
        "\n",
        "\n",
        "\n"
      ]
    },
    {
      "cell_type": "markdown",
      "metadata": {
        "id": "DUfP8nR_KxHn"
      },
      "source": [
        "В этом случае мы можем просто на соответствующих местах матрицы E поставить минус бесконечности - тогда в ембедингах слов, которые не должны знать о каких-то словах, информации об этих словах не будет.\n",
        "\n",
        "<img src =\"https://jalammar.github.io/images/gpt2/transformer-attention-mask.png\" width=\"700\">\n",
        "\n"
      ]
    },
    {
      "cell_type": "markdown",
      "metadata": {
        "id": "2VeeqktUKxHn"
      },
      "source": [
        "В результате мы сможем, после softmax \"лишния\" информация не будет использоваться при генерации ответа на query\n",
        "\n",
        "<img src =\"https://jalammar.github.io/images/gpt2/transformer-attention-masked-scores-softmax.png\" width=\"700\">\n",
        "\n",
        "\n",
        "Благодаря этому трюку, у нас получается обучать transfomer по-прежнему как простую single-pass нейросеть, а не \"скатываться\" в RNN, где у нас возникнут проблемы с градиентами и временем работы\n",
        "\n"
      ]
    },
    {
      "cell_type": "markdown",
      "metadata": {
        "id": "b7CknCTiKxHp"
      },
      "source": [
        "# Примеры применений Transformer"
      ]
    },
    {
      "cell_type": "markdown",
      "metadata": {
        "id": "muCHK5JWKxHp"
      },
      "source": [
        "## Перевод текста\n",
        "\n",
        "Непосредственное применение разобранной архитектуры Encoder-Decodee\n",
        "<img src =\"https://jalammar.github.io/images/xlnet/transformer-encoder-decoder.png\" width=\"800\">\n",
        "\n"
      ]
    },
    {
      "cell_type": "markdown",
      "metadata": {
        "id": "1Odz80lVKxHp"
      },
      "source": [
        "## BERT\n",
        "\n",
        "В случае BERT используется только Encoder часть\n",
        "\n",
        "Это нейросеть, предобученная на огромном корпусе английского текста.\n",
        "\n",
        "Она одновременно решала две задачи"
      ]
    },
    {
      "cell_type": "markdown",
      "metadata": {
        "id": "17JUBYhVKxHp"
      },
      "source": [
        "В результате на вход подается все в таком виде:\n",
        "\n",
        "<img src =\"https://miro.medium.com/max/3200/1*D0_sVWpmOSaGCvm6gk9aHA.jpeg\" width=\"700\">\n",
        "\n",
        "$CLS$ токен нужен для того, чтобы нейросети было, куда класть информацию обо всем предложении в целом.\n",
        "\n",
        "$SEP$ нужен просто для того, чтобы разделять два предложения (если мы подаем их два) и для того, чтобы отмечать окончание. Использование $SEP$ с двумя целями позволяет подавать в уже обученную нейросеть только одно предложение.\n",
        "\n",
        "\n",
        "Выход нейросети во время обучения выглядит таким образом:\n",
        "\n",
        "\n"
      ]
    },
    {
      "cell_type": "markdown",
      "metadata": {
        "id": "REA7jl5kKxHp"
      },
      "source": [
        "### Masked Language Model\n",
        "\n",
        "На вход дается предложение - в нем выбрано 15% токенов, из которых:\n",
        "1. 80% замаскированы\n",
        "2. 10% заменены случайным\n",
        "3. 10% оставлены без изменений\n",
        "\n",
        "\n",
        "Для первой задачи используем Encoder-Decoder\n",
        "\n",
        "То есть у нас есть **Encoder**, который получает богатые представления и добавленный только на время обучения **Decoder** (не attention, просто MLP).\n",
        "\n",
        "Именно Decoder отвечает за то, чтобы предсказывать пропущенные/замененные токены. Ошибка считается только по тем 15% токенов, для которых могло произойти изменения, а не по всему предложению.\n",
        "\n",
        "\n",
        "\n",
        "Как гарантируется, что модель не заменяет имевшиеся в предложение слова на другие?\n",
        "\n",
        "\n",
        "\n",
        "<img src =\"https://miro.medium.com/max/1400/1*yTk92fAvqPDlabJJqkM4rw.png\" width=\"700\">\n"
      ]
    },
    {
      "cell_type": "markdown",
      "metadata": {
        "id": "1OQAoh1_KxHp"
      },
      "source": [
        "### Next Sentence Prediction\n",
        "\n",
        "Для второй задачи - Classifier.\n",
        "\n",
        "При этом на вход ему подается только сам CLS токен\n",
        "\n",
        "<img src =\"https://miro.medium.com/max/1400/1*UvFUs9afyoIGKj9F5qTIxw.png\" width=\"700\">\n",
        "\n",
        "Обе задачи тренируем одновременно.\n"
      ]
    },
    {
      "cell_type": "markdown",
      "metadata": {
        "id": "RmfAM1YjKxHp"
      },
      "source": [
        "### Transfer learning с BERT\n",
        "\n",
        "Нейросеть, обученную на таких задачах, можно было далее использовать при помощи transfer learning для решения целого спектра задач.\n",
        "\n",
        "Обученную таким образом модель (оставляем только encoder), можно использовать для огромного числа других задач\n",
        "\n",
        "<img src =\"https://miro.medium.com/max/933/1*71lj0YoM5fkZB229XKAFrA.jpeg\" width=\"700\">\n",
        "\n"
      ]
    },
    {
      "cell_type": "markdown",
      "metadata": {
        "id": "GNV2JvIaKxHp"
      },
      "source": [
        "### Zero-shot learning\n",
        "\n",
        "Более того, есть BERT, тренированная на большом числе разных языков.\n",
        "\n",
        "Это позволяет, например, сравнивать предложения из разных языков, хотя мы этому даже не учились. Поиграть можно [здесь](https://colab.research.google.com/github/deepmipt/dp_tutorials/blob/master/Tutorial_2_DeepPavlov_BERT_transfer_learning.ipynb#scrollTo=S1iqGcxUINyU). Веса будут грузиться ДОЛГО\n",
        "\n",
        "<img src =\"https://github.com/deepmipt/dp_tutorials/blob/master/img/BERT_multilingual.png?raw=1\" width=\"700\">\n"
      ]
    },
    {
      "cell_type": "markdown",
      "metadata": {
        "id": "pl_Z6SI4KxHp"
      },
      "source": [
        "### Специализированные аналоги BERT\n",
        "\n",
        "Более того, можно тренировать BERT под строго определенные задачи - например, анализ текстов научных статей\n",
        "\n",
        "<img src =\"https://miro.medium.com/max/1500/0*svTduALJlF5JOD7x.png\" width=\"800\">\n",
        "\n",
        "\n"
      ]
    },
    {
      "cell_type": "markdown",
      "metadata": {
        "id": "zZqByokvKxHp"
      },
      "source": [
        "## GPT (Generative Pretrained Transformer )\n",
        "\n",
        "В случае GPT используется только Decoder часть. Но теперь во всех частях используются masked attention\n",
        "\n",
        "\n",
        "\n",
        "<img src =\"https://jalammar.github.io/images/gpt2/gpt2-self-attention-qkv-1-2.png\" width=\"800\">\n",
        "\n",
        "Это нейросеть обширно используется для, например, задачи генерации текста,\n",
        "\n",
        "\n",
        "\n",
        "\n",
        "\n",
        "\n",
        "\n",
        "\n",
        "\n",
        "\n",
        "\n"
      ]
    },
    {
      "cell_type": "markdown",
      "metadata": {
        "id": "DocR_KISKxHq"
      },
      "source": [
        "Работает она следующим образом - даем ей в качестве исходного входа какую-то затравку. Можно просто SOS-токен. Она дает какой-то выход. Подаем этот выход нейросети как вход.\n",
        "Делаем так до тех пор, пока не надоест/не достигнем максимальной длины предложения/не встретим символ окончания генерации\n",
        "\n",
        "\n",
        "<img src =\"https://jalammar.github.io/images/xlnet/gpt-2-autoregression-2.gif\" width=\"800\">"
      ]
    },
    {
      "cell_type": "markdown",
      "metadata": {
        "id": "CgET6VayKxHq"
      },
      "source": [
        "Как ее обучали - на самом деле, тоже unsupervised. Но теперь перед моделью ставится задача предсказывать по предыдущим словам в предложении текущее.\n",
        "\n",
        "Понятно, что такую модель можно сразу же идти и использовать для генерации.\n",
        "\n",
        "Однако затем ее можно применять для многих других задач (опять же, путем transfer learning):\n",
        "\n",
        "\n",
        "1. Классификации - подаем сразу все предложение, полученное представление используем для предсказания\n",
        "\n",
        "2. Entailment (Определение логического следования) - даем изначальные данные, гипотезу, надо оценить, следует ли гипотеза из данных\n",
        "\n",
        "3. Similarity - можем оценивать похожесть предложений. Так как это мы определяем порядок предложений, то чтобы не было произволо скормим будем использовать результат пропускания через нейросеть обоих возможных порядков.\n",
        "\n",
        "4. Выбор варианта ответа на вопросы - может обучить нейросеть отвечать на вопросы с множественным выбором.\n",
        "\n",
        "<img src =\"https://paperswithcode.com/media/methods/Screen_Shot_2020-05-27_at_12.41.44_PM.png\" width=\"800\">\n",
        "\n",
        "Также можно научить нейросеть отвечать на вопросы и т.д.\n",
        "\n",
        "\n"
      ]
    },
    {
      "cell_type": "markdown",
      "metadata": {
        "id": "dwG5uUqFKxHq"
      },
      "source": [
        "Строго говоря, мы можем даже текст переводить с помощью GPT.\n",
        "\n",
        "<img src =\"https://jalammar.github.io/images/gpt2/decoder-only-transformer-translation.png\" width=\"800\">\n",
        "\n",
        "Просто подаем предложение с токеном в конце, определяющим, на какой язык переводим\n",
        "\n",
        "\n",
        "\n",
        "\n",
        "\n"
      ]
    },
    {
      "cell_type": "markdown",
      "metadata": {
        "id": "A0qWcJTOKxHq"
      },
      "source": [
        "По аналогичной схеме можем научить нашу сеть делать summary текста\n",
        "\n",
        "<img src =\"https://jalammar.github.io/images/gpt2/decoder-only-summarization.png\" width=\"800\">\n"
      ]
    },
    {
      "cell_type": "markdown",
      "metadata": {
        "id": "X00H4jfLKxHq"
      },
      "source": [
        "[Здесь](https://6b.eleuther.ai/) можно поиграться с open-source GPT-J\n",
        "\n",
        "А [здесь](https://colab.research.google.com/github/kingoflolz/mesh-transformer-jax/blob/master/colab_demo.ipynb#scrollTo=e-NKauYvgTNG) - поиграться, но уже в Collab"
      ]
    },
    {
      "cell_type": "markdown",
      "metadata": {
        "id": "xODW1ZJ95G63"
      },
      "source": [
        "# Self-supervised learning"
      ]
    },
    {
      "cell_type": "markdown",
      "metadata": {
        "id": "O2xKrU9a5MEp"
      },
      "source": [
        "Фактически одновременно с трансформерами получила ширкую известность идея self-supervised learning - на наборе неразмеченном датасете задать нейросети какую-то задачу.\n",
        "\n",
        "<img src =\"https://images.ctfassets.net/pzhspng2mvip/5n3LZLsXbPJ1cb272yZklY/6bd7d917bddf716f02f8219f1bb3bd36/fig_1.png\" width=\"800\">\n",
        "\n"
      ]
    },
    {
      "cell_type": "markdown",
      "metadata": {
        "id": "Gz3VNIES6mTj"
      },
      "source": [
        "И что дальше?\n",
        "\n",
        "А дальше, если задача хорошая, то нейросеть, учась ее решать, поймет входные данные очень-очень хорошо и сформирует хорошее представление - эмбеддинг - наших данных."
      ]
    },
    {
      "cell_type": "markdown",
      "metadata": {
        "id": "3QIzeswA5_lE"
      },
      "source": [
        "А то, что это представление не оптивизирована под конкретную supervised-задачу, что могло бы привести к выкидыванию в общем-то важных признаков (вам не надо знать цвет животного, чтобы отличить собаку от кошки, но надо, если хотите отличать окраски и породы).\n",
        "\n",
        "Предобученную таким образом модель можно адаптировать к бОльшему числу задач, причем, чаще эффективнее чем supervised-аналоги"
      ]
    },
    {
      "cell_type": "markdown",
      "metadata": {
        "id": "QUZGU16G7yN6"
      },
      "source": [
        "Разумеется, чтобы все было хорошо, нужно придумать хорошую задачу. Нужно чтобы выполнялось правило - модель может решить эту задачу тогда, когда хорошо понимает данные"
      ]
    },
    {
      "cell_type": "markdown",
      "metadata": {
        "id": "JV9rPcVq7Nr8"
      },
      "source": [
        "Например, можно все картинки в своем датасете разрезать на части и учить нейросеть собирать получившийся пазл.\n",
        "\n",
        "<img src =\"https://images.ctfassets.net/pzhspng2mvip/qd2cW4HaoVijHSmXp5bwY/d69296276fda1f5da0469a3207087797/fig_5.png\" width=\"800\">\n",
        "\n"
      ]
    },
    {
      "cell_type": "markdown",
      "metadata": {
        "id": "toM7LgvO76_t"
      },
      "source": [
        "И постойте, в случае BERT и GPT, по сути, мы это и делали!!!\n",
        "\n"
      ]
    },
    {
      "cell_type": "markdown",
      "metadata": {
        "id": "mUD1b2VT8A1l"
      },
      "source": [
        "Со временем развились другие подходы к данной задаче. Рассмотрим один из них, который стал наиболее популярным сейчас"
      ]
    },
    {
      "cell_type": "markdown",
      "metadata": {
        "id": "ROR_pdWk8XuM"
      },
      "source": [
        "## Contrastive learning\n",
        "\n",
        "Откуда-то мы знаем, что такие-то объекты - похожи, а такие-то нет.\n",
        "\n",
        "Мы ставим задачу, чтобы наша нейросеть давала похожим объеектам похожие эмбеддинги, а непохожим - непохожие.\n",
        "\n",
        "Казалось бы - что проще. Но если мы не знаем разметки - откуда мы знаем какие объекты похожи, а какие - нет?\n",
        "\n"
      ]
    },
    {
      "cell_type": "markdown",
      "metadata": {
        "id": "DgpWvA3T9QbG"
      },
      "source": [
        "### SIMCLR\n",
        "\n",
        "Давайте по-разному видоизменять (аугментировать) наши исходные изображения.\n",
        "\n",
        "Тогда мы знаем, что изображения, полученные аугментацией одного и того же изображения - похожи.\n",
        "Это факт.\n",
        "\n",
        "Также мы можем допускать, что изображения, полуученные аугментацией разных изображений - отличаются.\n",
        "\n",
        "Таким образом мы можем поставить перед нейронной сетью цель - пусть эмбеддинги аугментаций одного и того же изображения будут похожи, а разных - отличаться.\n",
        "\n",
        "В этом и состоит подход SIMCLR (A Simple Framework for Contrastive Learning of Visual Representations)\n",
        "\n",
        "<img src =\"https://1.bp.blogspot.com/--vH4PKpE9Yo/Xo4a2BYervI/AAAAAAAAFpM/vaFDwPXOyAokAC8Xh852DzOgEs22NhbXwCLcBGAsYHQ/s640/image4.gif\" width=\"800\">\n"
      ]
    },
    {
      "cell_type": "markdown",
      "metadata": {
        "id": "kvtrXiUKDHWG"
      },
      "source": [
        "Подход работает, есть много предобученных им нейросетей, который можно использовать в своей работе"
      ]
    },
    {
      "cell_type": "markdown",
      "metadata": {
        "id": "qPQeJsYQ-4I-"
      },
      "source": [
        "\n",
        "Примеры аугментаций\n",
        "\n",
        "<img src =\"https://1.bp.blogspot.com/-bO6c2IGpXDY/Xo4cR6ebFUI/AAAAAAAAFpo/CPVNlMP08hUfNPHQb2tKeHju4Y_UsNzegCLcBGAsYHQ/s640/image3.png\" width=\"800\">"
      ]
    },
    {
      "cell_type": "markdown",
      "metadata": {
        "id": "hBYImahC-o9o"
      },
      "source": [
        "Однако у подхода есть важное допущение - аугментации разных изображений действительно отличаются. А если у нас в датасете много дупликатов? Или собак одной породы и одного возраста?\n",
        "Что делать тогда?\n",
        "\n",
        "Кроме того, такой подход зависит от размера батча - сколько  аугментаций, которые должны отличаться - негативных объектов - мы сможем засунуть в один батч.\n",
        "\n",
        "Проблема очень сложная и потому попытка самому использовать SIMCLR может занять достаточно много времени."
      ]
    },
    {
      "cell_type": "markdown",
      "metadata": {
        "id": "oogpULwcAAdC"
      },
      "source": [
        "### BYOL\n",
        "\n",
        "BYOL (Bootstrap Your Own Latent) - подход, который освобождает нас от необходимости использовать негативные объекты\n",
        "\n",
        "<img src =\"https://miro.medium.com/max/1400/1*PQFk0171DL8_FP3OkS0Plw.png\" width=\"800\">\n",
        "\n"
      ]
    },
    {
      "cell_type": "markdown",
      "metadata": {
        "id": "IS_D_WgVCntD"
      },
      "source": [
        "Идея проста (точнее, так кажется на первый взгляд):\n",
        "\n",
        "Пусть у нас будут нейросети \"учитель\" и \"студент\".\n",
        "\n",
        "Каждой из них мы будем подавать аугментацию исходного изображения. Задача этих нейросетей - дать похожее представление для этих двух аугментаций\n",
        "\n",
        "Где зарыта собака?"
      ]
    },
    {
      "cell_type": "markdown",
      "metadata": {
        "id": "uGwdv20yDBw9"
      },
      "source": [
        "У нейросетей есть тривиальное решение - предсказывать всегда одно и то же представление. Кажется, мы никак от этого не защищены"
      ]
    },
    {
      "cell_type": "markdown",
      "metadata": {
        "id": "fwNE-XLqDfjt"
      },
      "source": [
        "И вот здесь уже начинается магия:\n",
        "\n",
        "Учится градиентным спуском только студент. Веса же студента обновляются как экспоненциальное среднее весов учителя за время обучения.\n",
        "\n",
        "Это, и тщательный подбор гиперпараметров, позволяют избежать схлопывания в тривиальное решение"
      ]
    },
    {
      "cell_type": "markdown",
      "metadata": {
        "id": "5jtsc-EKGEW_"
      },
      "source": [
        "### DINO"
      ]
    },
    {
      "cell_type": "markdown",
      "metadata": {
        "id": "WmVu5l-MGH4C"
      },
      "source": [
        "И нейросеть, которая была обучена таким образом СЕГМЕНТИРОВАТЬ изображения БЕЗ ОБУЧЕНИЯ С УЧИТЕЛЕМ - [DINO](https://ai.facebook.com/blog/dino-paws-computer-vision-with-self-supervised-transformers-and-10x-more-efficient-training/).\n",
        "\n",
        "Подход - модификация BYOL. Теперь учителя и ученику даются еще и разные по природе аугментации.\n",
        "\n",
        "Учитель видит только большие, захватывающие большую часть изображения, а студент - и большие, и маленькие.\n",
        "\n",
        "При этом даже на маленькой части изображения он должен выдавать эмбединг похожий на эмбединг учителя на большой части.\n",
        "\n",
        "Фактически - нейросеть учится по уху кота определять, что на картинке таки есть кот\n",
        "\n",
        "\n",
        "<img src =\"https://scontent-vie1-1.xx.fbcdn.net/v/t39.2365-6/10000000_208749027394474_3359566853088796337_n.gif?_nc_cat=105&ccb=1-5&_nc_sid=ad8a9d&_nc_ohc=cqht23uAUvgAX-Na4Su&_nc_ht=scontent-vie1-1.xx&oh=00_AT8IDZDRT4oJFqTGwy6a3KBH8_cIeCwCF_DQX3hpW9GBTA&oe=61BFD947\" width=\"800\">\n",
        "\n"
      ]
    },
    {
      "cell_type": "markdown",
      "metadata": {
        "id": "dau5paCLHV-L"
      },
      "source": [
        "Сегментацию мы увидим на семинаре.\n",
        "\n",
        "\n",
        "\n",
        "\n",
        "Оказывается, эмбединги еще и хорошо отделяют разные объекты друг от друга\n",
        "\n",
        "<img src =\"https://scontent-vie1-1.xx.fbcdn.net/v/t39.2365-6/177871790_363624551852633_263144119734802610_n.gif?_nc_cat=105&ccb=1-5&_nc_sid=ad8a9d&_nc_ohc=fZLQTdSreZwAX-axVwh&_nc_ht=scontent-vie1-1.xx&oh=00_AT8kmwLOdSX83nxat_5V_E3E5cqPuRRhTlYBdts8Sq7MXA&oe=61BE56F6\" width=\"800\">\n"
      ]
    },
    {
      "cell_type": "markdown",
      "metadata": {
        "id": "SInV_0CvKxHq"
      },
      "source": [
        "# Хорошие источники\n",
        "\n",
        "[Про трансформеры](https://www.notion.so/Transformers-969f4b27c48147778c1e2dbda0c83ce0)\n",
        "\n",
        "[Аннотированный трансформер](http://nlp.seas.harvard.edu/2018/04/03/attention.html)\n",
        "\n",
        "[Код множества моделей с красивыами комментариями](https://nn.labml.ai/)\n",
        "\n",
        "[BERT](https://medium.com/@samia.khalid/bert-explained-a-complete-guide-with-theory-and-tutorial-3ac9ebc8fa7c)\n",
        "\n",
        "[Зоопарк BERT](https://ai.plainenglish.io/so-how-is-bert-different-ad43a42cab48)\n",
        "\n",
        "[От NLP до Transformer](https://jonathan-hui.medium.com/nlp-bert-transformer-7f0ac397f524)\n",
        "\n",
        "[Illustrated transformer](https://jalammar.github.io/illustrated-transformer/)\n",
        "\n",
        "[Illustrated GPT-2](https://jalammar.github.io/illustrated-gpt2/)\n",
        "\n",
        "[Open-source реализация GPT-3](https://arankomatsuzaki.wordpress.com/2021/06/04/gpt-j/)\n",
        "\n",
        "[Transformer для русского языка](https://github.com/vlarine/transformers-ru)\n",
        "\n",
        "[Еще про трансформеры](https://data-science-blog.com/blog/2021/04/07/multi-head-attention-mechanism/)"
      ]
    }
  ]
}