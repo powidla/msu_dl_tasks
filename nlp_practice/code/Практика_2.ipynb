{
  "nbformat": 4,
  "nbformat_minor": 0,
  "metadata": {
    "colab": {
      "provenance": []
    },
    "kernelspec": {
      "name": "python3",
      "display_name": "Python 3"
    },
    "language_info": {
      "name": "python"
    }
  },
  "cells": [
    {
      "cell_type": "code",
      "source": [
        "!pip install pymorphy2"
      ],
      "metadata": {
        "colab": {
          "base_uri": "https://localhost:8080/"
        },
        "id": "aqZOiQqftPGb",
        "outputId": "8dcce395-ac45-4fd4-fb88-0e94e354425d"
      },
      "execution_count": null,
      "outputs": [
        {
          "output_type": "stream",
          "name": "stdout",
          "text": [
            "Looking in indexes: https://pypi.org/simple, https://us-python.pkg.dev/colab-wheels/public/simple/\n",
            "Requirement already satisfied: pymorphy2 in /usr/local/lib/python3.10/dist-packages (0.9.1)\n",
            "Requirement already satisfied: dawg-python>=0.7.1 in /usr/local/lib/python3.10/dist-packages (from pymorphy2) (0.7.2)\n",
            "Requirement already satisfied: pymorphy2-dicts-ru<3.0,>=2.4 in /usr/local/lib/python3.10/dist-packages (from pymorphy2) (2.4.417127.4579844)\n",
            "Requirement already satisfied: docopt>=0.6 in /usr/local/lib/python3.10/dist-packages (from pymorphy2) (0.6.2)\n"
          ]
        }
      ]
    },
    {
      "cell_type": "code",
      "source": [
        "import pymorphy2"
      ],
      "metadata": {
        "id": "G7dkDTwWFja7"
      },
      "execution_count": null,
      "outputs": []
    },
    {
      "cell_type": "code",
      "source": [
        "def lemmatize_text(text):\n",
        "    morph = pymorphy2.MorphAnalyzer()\n",
        "\n",
        "    output = []\n",
        "    sentences = text.split('\\n')\n",
        "\n",
        "    for sentence in sentences:\n",
        "        tokens = sentence.split()\n",
        "        for token in tokens:\n",
        "            parsed = morph.parse(token)[0]\n",
        "            lemma = parsed.normal_form\n",
        "            pos = parsed.tag.POS\n",
        "            if pos is None:\n",
        "                pos = 'UNKN'  # Если частеречный тег не определен, присвоим метку 'UNKN'\n",
        "            output.append(f'{token}{{{lemma}={pos}}}')\n",
        "\n",
        "    result = ' '.join(output)\n",
        "    return result\n",
        "\n",
        "# Пример использования\n",
        "input_text = \"Я ходил в парк. Там было очень красиво.\\nКакой прекрасный день!\"\n",
        "\n",
        "output_text = lemmatize_text(input_text)\n",
        "print(output_text)\n"
      ],
      "metadata": {
        "colab": {
          "base_uri": "https://localhost:8080/"
        },
        "id": "_Qy4CNBKtM5J",
        "outputId": "aceb3ff0-444a-4ad6-fc97-2afa6d95f5e9"
      },
      "execution_count": null,
      "outputs": [
        {
          "output_type": "stream",
          "name": "stdout",
          "text": [
            "Я{я=NPRO} ходил{ходить=VERB} в{в=PREP} парк.{парк.=UNKN} Там{там=ADVB} было{быть=VERB} очень{очень=ADVB} красиво.{красиво.=UNKN} Какой{какой=ADJF} прекрасный{прекрасный=ADJF} день!{день!=UNKN}\n"
          ]
        }
      ]
    }
  ]
}