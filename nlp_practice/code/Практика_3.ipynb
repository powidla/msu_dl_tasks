{
  "nbformat": 4,
  "nbformat_minor": 0,
  "metadata": {
    "colab": {
      "provenance": []
    },
    "kernelspec": {
      "name": "python3",
      "display_name": "Python 3"
    },
    "language_info": {
      "name": "python"
    }
  },
  "cells": [
    {
      "cell_type": "code",
      "execution_count": null,
      "metadata": {
        "id": "MegU1QKcQF7k"
      },
      "outputs": [],
      "source": [
        "import json\n",
        "from nltk.tokenize import sent_tokenize\n",
        "from nltk.corpus import stopwords\n",
        "from nltk.probability import FreqDist\n",
        "from heapq import nlargest\n",
        "import re\n",
        "from nltk.tokenize import word_tokenize\n",
        "from nltk.probability import FreqDist\n"
      ]
    },
    {
      "cell_type": "code",
      "source": [
        "import nltk\n",
        "nltk.download('punkt')\n",
        "nltk.download(\"stopwords\")"
      ],
      "metadata": {
        "colab": {
          "base_uri": "https://localhost:8080/"
        },
        "id": "4cAWDKFARZ4-",
        "outputId": "74564bf3-087b-4a69-e58f-69d8f86cda22"
      },
      "execution_count": null,
      "outputs": [
        {
          "output_type": "stream",
          "name": "stderr",
          "text": [
            "[nltk_data] Downloading package punkt to /root/nltk_data...\n",
            "[nltk_data]   Package punkt is already up-to-date!\n",
            "[nltk_data] Downloading package stopwords to /root/nltk_data...\n",
            "[nltk_data]   Unzipping corpora/stopwords.zip.\n"
          ]
        },
        {
          "output_type": "execute_result",
          "data": {
            "text/plain": [
              "True"
            ]
          },
          "metadata": {},
          "execution_count": 6
        }
      ]
    },
    {
      "cell_type": "code",
      "source": [
        "def preprocess_text(text):\n",
        "    # Удаление символов пунктуации\n",
        "    text = re.sub(r'[^\\w\\s]', '', text)\n",
        "    \n",
        "    # Приведение текста к нижнему регистру\n",
        "    text = text.lower()\n",
        "    \n",
        "    # Токенизация текста на отдельные слова\n",
        "    tokens = word_tokenize(text)\n",
        "    \n",
        "    # Удаление стоп-слов\n",
        "    stop_words = set(stopwords.words('russian'))  # Замените 'english' на язык вашего текста\n",
        "    filtered_tokens = [token for token in tokens if token not in stop_words]\n",
        "    \n",
        "    # Объединение токенов в предобработанный текст\n",
        "    preprocessed_text = ' '.join(filtered_tokens)\n",
        "    \n",
        "    return preprocessed_text\n",
        "\n",
        "\n",
        "def calculate_sentence_scores(sentences):\n",
        "    # Собираем все слова из всех предложений\n",
        "    all_words = [word for sentence in sentences for word in word_tokenize(sentence)]\n",
        "    \n",
        "    # Вычисляем частоту слов\n",
        "    word_frequencies = FreqDist(all_words)\n",
        "    \n",
        "    # Вычисляем рейтинг предложений на основе суммы частот слов в каждом предложении\n",
        "    sentence_scores = {}\n",
        "    for i, sentence in enumerate(sentences):\n",
        "        sentence_tokens = word_tokenize(sentence)\n",
        "        sentence_score = sum(word_frequencies[word] for word in sentence_tokens)\n",
        "        sentence_scores[i] = sentence_score\n",
        "    \n",
        "    return sentence_scores\n",
        "\n",
        "\n",
        "\n",
        "def extract_summary(text, max_length):\n",
        "\tsentences = sent_tokenize(text)\n",
        "\tsentence_scores = calculate_sentence_scores(sentences)\n",
        "\tsummary_sentences = nlargest(max_length, sentence_scores, key=sentence_scores.get)\n",
        "\tsummary = summary_sentences\n",
        "\treturn summary\n",
        "\n",
        "def generate_summaries(texts, max_length=300):\n",
        "    summaries = []\n",
        "    for text in texts:\n",
        "        preprocessed_text = preprocess_text(text)\n",
        "        summary = extract_summary(preprocessed_text, max_length)\n",
        "        summaries.append(summary)\n",
        "    return summaries\n",
        "\n",
        "# Загрузка исходных текстовых данных из файла JSON\n",
        "with open('дополнительные материалы.json', 'r') as file:\n",
        "\tinput_data = json.load(file)\n",
        "\n",
        "# Генерация рефератов\n",
        "generated_summaries = generate_summaries(input_data)\n",
        "\n",
        "# Сохранение рефератов в файл JSON\n",
        "with open('output.json', 'w') as file:\n",
        "\tjson.dump(generated_summaries, file)\n"
      ],
      "metadata": {
        "id": "VBPIgRsMQR5D"
      },
      "execution_count": null,
      "outputs": []
    }
  ]
}